{
 "cells": [
  {
   "cell_type": "markdown",
   "metadata": {
    "cell_style": "center"
   },
   "source": [
    "# <font color=#2F75A3>IPython TUTORIAL  (Prof. Joan F. Alonso)</font>\n",
    "\n",
    "**<font color=#2F75A3>Course 240NR024: Data Analysis in Rehabilitation</font>**\n",
    "\n",
    "<font color=#2F75A3>Master in Neuroengineering and Rehabilitation</font>"
   ]
  },
  {
   "cell_type": "markdown",
   "metadata": {},
   "source": [
    "# Introduction"
   ]
  },
  {
   "cell_type": "markdown",
   "metadata": {},
   "source": [
    "[Python](https://www.python.org) is a general-purpose programming language on its own, popular and widely used ([3rd most active on GitHub](https://githut.info), as of February 2020). With the addition of a few quite popular libraries such as `numpy`,  `scipy` or `matplotlib` it becomes a powerful tool for scientific computing.\n",
    "\n",
    "You may already have some experiency with Python, probably even with Jupyter Notebooks, Numpy, etc.. Then, the first sections of this tutorial will be a great refresher for you. For the rest of you, these sections will serve as a quick crash course both on the Python programming language and on the use of Jupyter Notebooks."
   ]
  },
  {
   "cell_type": "markdown",
   "metadata": {},
   "source": [
    "In this tutorial, we will cover the basic stuff to get us up to speed:\n",
    "\n",
    "* [**Interactive Python (IPython)**](#IPython)\n",
    "  * Installing a working environment\n",
    "  * Adding useful plug-ins\n",
    "  * Creating notebooks\n",
    "  * General recommendations\n",
    "\n",
    "\n",
    "* [**Basic Python Language**](#Basics-of-Python)\n",
    "  * Basic data types (and operators)\n",
    "    - Simple: int, float, etc.\n",
    "    - Composite: list, tuple, dict, etc.\n",
    "  * Loops\n",
    "  * Functions\n",
    "  * Classes"
   ]
  },
  {
   "cell_type": "markdown",
   "metadata": {},
   "source": [
    "# IPython"
   ]
  },
  {
   "cell_type": "markdown",
   "metadata": {},
   "source": [
    "[IPython](https://ipython.org) is an enhanced Python shell, designed to increase the efficiency and usability of coding, testing and debugging Python.\n",
    "\n",
    "Jupyter Notebook (formerly know as IPython Notebook) is an interactive computational environment in which we can combine code execution, rich text, mathematics, plots and rich media (for more details on the Jupyter Notebook, please see the [Jupyter](https://jupyter.org) website).\n",
    "\n",
    "This part of the tutorial will focus on how to install Anaconda in your own computer, how to run the Jupyter Notebook and edit notebooks, add extensions, and some recommendations to make our workflow as sleek as we want or need it."
   ]
  },
  {
   "cell_type": "markdown",
   "metadata": {},
   "source": [
    "## Installing Python (Anaconda)\n",
    "How to install Python? Among the many alternatives to install a working Python/IPython environment, Anaconda can isolate our work from other Python projects or installations, and allows us to have many different setups if we work in projects with different requirements.\n",
    "\n",
    "That being said, check the [Anaconda documentation](https://docs.anaconda.com/anaconda/install) for up-to-date installation intructions. Basically, what we have to do is downloading a suitable package for our operating system (Linux, Mac, or Windows) accepting the default options (choose Python 3 version, more on this [later](#Python-versions)).\n",
    "\n",
    "Once installed, we may want to open the [Anaconda Navigator](https://docs.anaconda.com/anaconda/user-guide/getting-started) or directly launch the Jupyter Notebook. Usually this is done through the command line:\n",
    "* In Linux and Mac, opening a terminal.\n",
    "* In Windows, opening the Anaconda Prompt through the Applications Menu.\n",
    "\n",
    "Then, we just run `jupyter-notebook <desired startup folder>` (or simply `jupyter-notebook`) and voilà! We can now create a new notebook or open an existing one."
   ]
  },
  {
   "cell_type": "markdown",
   "metadata": {},
   "source": [
    "## General recommendations when using notebooks\n",
    "\n",
    "As we've seen in this current example, notebooks are organized into cells. Each of them can be:\n",
    "* Text cells, which can be formated using [Markdown](https://jupyter-notebook.readthedocs.io/en/stable/examples/Notebook/Working%20With%20Markdown%20Cells.html), and can include $\\LaTeX$ expressions.\n",
    "* Code cells, usually Python or R.\n",
    "* Raw cells, interpreted by the command line tool `nbconvert` to convert the notebook into another format (such as HTML or LaTeX).\n",
    "\n",
    "Have a look at the keyboard shortcuts (menu *Help*, option *Keyboard Shorcuts*) to know how to edit, run, copy, paste,\n",
    "\n",
    "\n",
    "The first recommendation is to structure our notebooks:\n",
    " * Give them a title (H1 header)\n",
    "\n",
    "\n",
    "Structure your Notebook\n",
    "Give your notebook a title (H1 header) and a meaningful preamble to describe its purpose and contents.\n",
    "Use headings and documentation in Markdown cells to structure your notebook and explain your workflow steps. Remember: You’re not only doing this for your colleagues or your successor, but also for your future self.\n",
    "The toc2 extension can automatically create heading numbers and a Table of Contents, both in a sidebar (optionally a floating window) and in a markdown cell. The highlighting indicates your current position in the document — this will help you keep oriented in long notebooks.\n",
    "The Collapsible Headings extension allows you to hide entire sections of code, thereby letting you focus on your current workflow stage.\n",
    "This default template extension causes notebooks to not be created empty, but with a default structure and common imports. Also, it will repeatedly ask you to change the name from Untitled.ipynb to something meaningful.\n",
    "The Jupyter snippets extension allows you to conveniently insert often needed code blocks, e.g. your typical import statements.\n"
   ]
  },
  {
   "cell_type": "markdown",
   "metadata": {},
   "source": [
    "## Adding extensions\n",
    "The Jupyter Notebook is a great teaching, exploring, and literate programming environment, but out-of-the-box notebooks are lacking in features.\n",
    "\n",
    "Fortunately, we can install some extensions o plug-ins that will help us work smarter. It is best to install them using [Jupyter NBextensions Configurator](https://github.com/Jupyter-contrib/jupyter_nbextensions_configurator#installation) and [Jupyter Notebook Extensions](https://github.com/ipython-contrib/jupyter_contrib_nbextensions). We can install these tools from the command line:\n",
    "* `conda install -c conda-forge jupyter_contrib_nbextensions` \n",
    "* `conda install -c conda-forge jupyter_nbextensions_configurator`\n",
    "* `jupyter contrib nbextension install --user`\n",
    "\n",
    "This will add a new tab to our Jupyter Notebook tree where we will be able to check and unckeck which extensions to enable."
   ]
  },
  {
   "cell_type": "markdown",
   "metadata": {},
   "source": [
    "### Useful extensions\n",
    "Here are some extensions that we can find useful (among many others):\n",
    "\n",
    "1. [**Autopep8**](https://jupyter-contrib-nbextensions.readthedocs.io/en/latest/nbextensions/code_prettify/README_autopep8.html). Reformats code to fix basic spacing errors that do not follow PEP-8 guidelines. See [PEP-8 documentation](https://www.python.org/dev/peps/pep-0008) for detailed style guidelines. Probably we need to install the _autopep8_ package for this extension to work.\n",
    "\n",
    "\n",
    "2. [**Spellchecker**](https://jupyter-contrib-nbextensions.readthedocs.io/en/latest/nbextensions/spellchecker/README.html#) Highlights incorrectly spelled words in Markdown and Raw cells. It is very helpful in identifying misspelled words, especially when all your text, code, and LaTeX seem to be running together.\n",
    "\n",
    "\n",
    "3. [**Execute Time**](https://jupyter-contrib-nbextensions.readthedocs.io/en/latest/nbextensions/execute_time/readme.html) It is a helpful reminder of what has and has not been executed as you switch between notebooks. It displays a line at the bottom of your code block that tells you\n",
    "  - the date and time the last execution of the code cell occurred\n",
    "  - how long it took to execute\n",
    "  \n",
    "  The timing information allows us to assess how long it would take to re-run the cell, but  also avoids importing the `Time` or `Timeit` libraries to time the code execution.\n",
    "  \n",
    "  \n",
    "4. [**Notify**](https://jupyter-contrib-nbextensions.readthedocs.io/en/latest/nbextensions/notify/readme.html) Displays a web notification in the top right hand corner of your screen when the kernel becomes idle, meaning the code has finished running. The _Notify_ drop-down menu in the Jupyter Notebook toolbar allows you to disable the feature or select notifications for code that takes longer than 0, 5, 10, or 30 seconds to run.\n",
    "\n",
    "\n",
    "5. [**Skip-Traceback**](https://jupyter-contrib-nbextensions.readthedocs.io/en/latest/nbextensions/skip-traceback/readme.html) Hides error tracebacks and instead only displays a summary that includes error name and type. If you want to view the full traceback, you can click the triangle/drop-down arrow at the end of the summary to unhide the traceback.\n",
    "\n",
    "\n",
    "6. [**Variable inspector**](https://jupyter-contrib-nbextensions.readthedocs.io/en/latest/nbextensions/varInspector/README.html) Collects all defined variables and display them in a floating window.\n",
    "\n",
    "\n",
    "7. [**Scratchpad**](https://jupyter-contrib-nbextensions.readthedocs.io/en/latest/nbextensions/scratchpad/README.html) Opens a cell that acts like a scratch notebook where you can execute code against the kernel without having to modify your notebook.\n",
    "\n",
    "\n",
    "8. [**Snippets Menu**](https://jupyter-contrib-nbextensions.readthedocs.io/en/latest/nbextensions/snippets_menu/readme.html) Adds a menu item to your Jupyter Notebook where you can search for snippets, boilerplate, and examples of code to insert into your notebook.\n",
    "\n",
    "\n",
    "9. [**Initialization Cells**](https://jupyter-contrib-nbextensions.readthedocs.io/en/latest/nbextensions/init_cell/README.html) Allows you to mark cells as _initialization cells_ that will run automatically when the notebook is opened or when clicking the initialization button in the toolbar. Note that the first time you open a notebook with initialization cells enabled, a warning will display saying the notebook is untrusted. You can choose to trust the notebook, after which the notebook will re-open in trusted mode and run your initialization cells.\n",
    "\n",
    "10. [**Code font size**](https://jupyter-contrib-nbextensions.readthedocs.io/en/latest/nbextensions/code_font_size/README.html) Adds toolbar buttons to increase and decrease code's font size (this is useful, for example, when projecting the notebook).\n",
    "\n",
    "\n",
    "11. [**Code folding**](https://jupyter-contrib-nbextensions.readthedocs.io/en/latest/nbextensions/codefolding/readme.html) Allows code folding within cells.\n",
    "\n",
    "\n",
    "12. [**Collapsible Headings**](https://jupyter-contrib-nbextensions.readthedocs.io/en/latest/nbextensions/collapsible_headings/readme.html) Organize your notebook into collapsible sections indicated by markdown heading sections. You can indicate up to 6 heading levels in your markdown by using hashtags `#`.\n",
    "\n",
    "\n",
    "13. [**Table of contents (2)**](https://jupyter-contrib-nbextensions.readthedocs.io/en/latest/nbextensions/toc2/README.html) Last, but not least, this extension displays the index of collapsible headings in a floating window or as a docked sidebar. We can use the table of contents to scroll through the notebook, jump to specific sections, and collapse sections.\n",
    "\n",
    "Right now we can enable some of them just to play, but when we work with notebooks they will help us a lot."
   ]
  },
  {
   "cell_type": "markdown",
   "metadata": {},
   "source": [
    "# Basics of Python\n",
    "\n",
    "Python is a high-level, dynamically typed multiparadigm programming language. Python code is often said to be almost like pseudocode, since it allows you to express very powerful ideas in very few lines of code while being very readable. As an example, here is an implementation of the classic [_Quick Sort_](https://www.youtube.com/watch?v=WaNLJf8xzC4) algorithm in Python:"
   ]
  },
  {
   "cell_type": "code",
   "execution_count": null,
   "metadata": {
    "ExecuteTime": {
     "end_time": "2020-03-02T10:06:59.261359Z",
     "start_time": "2020-03-02T10:06:59.235Z"
    },
    "cell_style": "center"
   },
   "outputs": [],
   "source": [
    "def quicksort(lst):\n",
    "    if len(lst) <= 1:\n",
    "        return lst\n",
    "    pivot = lst[len(lst) // 2]\n",
    "    left = [val for val in lst if val < pivot]\n",
    "    middle = [val for val in lst if val == pivot]\n",
    "    right = [val for val in lst if val > pivot]\n",
    "    return quicksort(left) + middle + quicksort(right)\n",
    "\n",
    "numbers = [4, 2, 7, 0, 1, 9, 6, 3, 5, 8]\n",
    "print(quicksort(numbers))"
   ]
  },
  {
   "cell_type": "markdown",
   "metadata": {},
   "source": [
    "## Python versions\n",
    "\n",
    "You may have heard that there are several versions and you can use Python 2 or 3, whatever fits your needs. This is no longer true, as [Python 2 was discontinued on January 1st, 2020](https://www.python.org/doc/sunset-python-2). \n",
    "\n",
    "So, [the world of Python belongs to versions 3.x](https://www.python.org/doc/versions), and that is what we will be using throughout the whole course.\n",
    "You can check your Python version at the command line by running `python --version`."
   ]
  },
  {
   "cell_type": "markdown",
   "metadata": {},
   "source": [
    "## Basic data types\n",
    "### Numbers\n",
    "Integers and floats work as you would expect from other languages. No need to define variables, just assign a value to a name:"
   ]
  },
  {
   "cell_type": "code",
   "execution_count": null,
   "metadata": {
    "ExecuteTime": {
     "end_time": "2020-03-02T10:06:59.262357Z",
     "start_time": "2020-03-02T10:06:59.241Z"
    }
   },
   "outputs": [],
   "source": [
    "x = 3\n",
    "print(x)\n",
    "type(x)"
   ]
  },
  {
   "cell_type": "markdown",
   "metadata": {},
   "source": [
    "Note that we are using the function `print()` to show results."
   ]
  },
  {
   "cell_type": "code",
   "execution_count": null,
   "metadata": {
    "ExecuteTime": {
     "end_time": "2020-03-02T10:06:59.262357Z",
     "start_time": "2020-03-02T10:06:59.246Z"
    }
   },
   "outputs": [],
   "source": [
    "y = 3.0\n",
    "print(y)\n",
    "type(y)"
   ]
  },
  {
   "cell_type": "markdown",
   "metadata": {},
   "source": [
    "Math operators work as usual as well:"
   ]
  },
  {
   "cell_type": "code",
   "execution_count": null,
   "metadata": {
    "ExecuteTime": {
     "end_time": "2020-03-02T10:06:59.263354Z",
     "start_time": "2020-03-02T10:06:59.251Z"
    }
   },
   "outputs": [],
   "source": [
    "print(x + 1)   # addition\n",
    "print(x - 1)   # subtraction\n",
    "print(x * 2)   # multiplication\n",
    "print(x ** 2)  # power"
   ]
  },
  {
   "cell_type": "markdown",
   "metadata": {},
   "source": [
    "Python allows augmented assignments (that is, assignment combined with operator):"
   ]
  },
  {
   "cell_type": "code",
   "execution_count": null,
   "metadata": {
    "ExecuteTime": {
     "end_time": "2020-03-02T10:06:59.265349Z",
     "start_time": "2020-03-02T10:06:59.257Z"
    }
   },
   "outputs": [],
   "source": [
    "x += 1\n",
    "print(x)  # Prints 4\n",
    "x *= 2\n",
    "print(x)  # Prints 8"
   ]
  },
  {
   "cell_type": "code",
   "execution_count": 1,
   "metadata": {
    "ExecuteTime": {
     "end_time": "2020-03-02T10:06:59.357103Z",
     "start_time": "2020-03-02T10:06:59.349124Z"
    }
   },
   "outputs": [
    {
     "ename": "NameError",
     "evalue": "name 'y' is not defined",
     "output_type": "error",
     "traceback": [
      "\u001b[1;31m---------------------------------------------------------------------------\u001b[0m",
      "\u001b[1;31mNameError\u001b[0m                                 Traceback (most recent call last)",
      "\u001b[1;32m<ipython-input-1-ae5837b4dada>\u001b[0m in \u001b[0;36m<module>\u001b[1;34m\u001b[0m\n\u001b[1;32m----> 1\u001b[1;33m \u001b[0mprint\u001b[0m\u001b[1;33m(\u001b[0m\u001b[0mtype\u001b[0m\u001b[1;33m(\u001b[0m\u001b[0my\u001b[0m\u001b[1;33m)\u001b[0m\u001b[1;33m)\u001b[0m                 \u001b[1;31m# prints <class 'float'>\u001b[0m\u001b[1;33m\u001b[0m\u001b[1;33m\u001b[0m\u001b[0m\n\u001b[0m\u001b[0;32m      2\u001b[0m \u001b[0mprint\u001b[0m\u001b[1;33m(\u001b[0m\u001b[0my\u001b[0m\u001b[1;33m,\u001b[0m \u001b[0my\u001b[0m \u001b[1;33m+\u001b[0m \u001b[1;36m1\u001b[0m\u001b[1;33m,\u001b[0m \u001b[0my\u001b[0m \u001b[1;33m*\u001b[0m \u001b[1;36m2\u001b[0m\u001b[1;33m,\u001b[0m \u001b[0my\u001b[0m \u001b[1;33m**\u001b[0m \u001b[1;36m2\u001b[0m\u001b[1;33m)\u001b[0m \u001b[1;31m# prints 3.0 4.0 6.0 9.0\u001b[0m\u001b[1;33m\u001b[0m\u001b[1;33m\u001b[0m\u001b[0m\n",
      "\u001b[1;31mNameError\u001b[0m: name 'y' is not defined"
     ]
    }
   ],
   "source": [
    "print(type(y))                 # prints <class 'float'>\n",
    "print(y, y + 1, y * 2, y ** 2) # prints 3.0 4.0 6.0 9.0"
   ]
  },
  {
   "cell_type": "markdown",
   "metadata": {},
   "source": [
    "Note that, unlike many languages, Python does not have unary increment `x++` or decrement `x--` operators.\n",
    "\n",
    "Python also has built-in types for long integers and complex numbers. Check all of the details in the [documentation](https://docs.python.org/3/library/stdtypes.html#numeric-types-int-float-complex)."
   ]
  },
  {
   "cell_type": "markdown",
   "metadata": {},
   "source": [
    "### Booleans\n",
    "\n",
    "Python implements all of the usual operators for Boolean logic, but uses English words (`and`,`or`, `not`) rather than symbols (`&&`, `||`, `~`):"
   ]
  },
  {
   "cell_type": "code",
   "execution_count": null,
   "metadata": {
    "ExecuteTime": {
     "end_time": "2020-03-02T10:06:59.358606Z",
     "start_time": "2020-03-02T10:06:59.270Z"
    }
   },
   "outputs": [],
   "source": [
    "t, f = True, False # note the multiple assignments in just one line\n",
    "print(type(t))     # prints <class 'bool'>"
   ]
  },
  {
   "cell_type": "markdown",
   "metadata": {},
   "source": [
    "Now we use booleans `t` and `f` along with some logic operators:"
   ]
  },
  {
   "cell_type": "code",
   "execution_count": null,
   "metadata": {
    "ExecuteTime": {
     "end_time": "2020-03-02T10:06:59.359604Z",
     "start_time": "2020-03-02T10:06:59.276Z"
    }
   },
   "outputs": [],
   "source": [
    "print(t and f) # AND\n",
    "print(t or f)  # OR\n",
    "print(not t)   # NOT\n",
    "print(t != f)  # XOR"
   ]
  },
  {
   "cell_type": "markdown",
   "metadata": {},
   "source": [
    "### Strings\n",
    "String literals can use single `''` or double `\"\"` quotes:"
   ]
  },
  {
   "cell_type": "code",
   "execution_count": null,
   "metadata": {
    "ExecuteTime": {
     "end_time": "2020-03-02T10:06:59.361119Z",
     "start_time": "2020-03-02T10:06:59.280Z"
    }
   },
   "outputs": [],
   "source": [
    "h = 'hello'\n",
    "w = \"world\"\n",
    "print(h)\n",
    "print(w)\n",
    "print(len(h)) # function len gives the character count"
   ]
  },
  {
   "cell_type": "markdown",
   "metadata": {},
   "source": [
    "String concatenation is easy:"
   ]
  },
  {
   "cell_type": "code",
   "execution_count": null,
   "metadata": {
    "ExecuteTime": {
     "end_time": "2020-03-02T10:06:59.361119Z",
     "start_time": "2020-03-02T10:06:59.285Z"
    }
   },
   "outputs": [],
   "source": [
    "hw = h + ' ' + w\n",
    "print(hw)  # prints 'hello world'"
   ]
  },
  {
   "cell_type": "markdown",
   "metadata": {},
   "source": [
    "String formating in Python can be \"old school\" (useful if you know something similar from C or MATLAB, but otherwise [not recommended](https://docs.python.org/3/library/stdtypes.html#printf-style-string-formatting)):"
   ]
  },
  {
   "cell_type": "code",
   "execution_count": null,
   "metadata": {
    "ExecuteTime": {
     "end_time": "2020-03-02T10:06:59.363104Z",
     "start_time": "2020-03-02T10:06:59.290Z"
    }
   },
   "outputs": [],
   "source": [
    "hw42 = '%s %s %d' % (h, w, 42)  # sprintf style string formatting\n",
    "print(hw42)                     # prints 'hello world 42'"
   ]
  },
  {
   "cell_type": "markdown",
   "metadata": {},
   "source": [
    "It is way better to use `str.format()` (which has been around since Python 2.6):"
   ]
  },
  {
   "cell_type": "code",
   "execution_count": null,
   "metadata": {
    "ExecuteTime": {
     "end_time": "2020-03-02T10:06:59.364102Z",
     "start_time": "2020-03-02T10:06:59.295Z"
    }
   },
   "outputs": [],
   "source": [
    "hw42 = '{0:s} {1:s} {2:d}'.format(h, w, 42)\n",
    "print(hw42)"
   ]
  },
  {
   "cell_type": "markdown",
   "metadata": {},
   "source": [
    "Or the newest and more powerful **f-Strings** (similar to `str.format()`, but less verbose). They were introduced in Python 3.6:"
   ]
  },
  {
   "cell_type": "code",
   "execution_count": null,
   "metadata": {
    "ExecuteTime": {
     "end_time": "2020-03-02T10:06:59.364102Z",
     "start_time": "2020-03-02T10:06:59.299Z"
    }
   },
   "outputs": [],
   "source": [
    "hw42 = f\"{h} {w} {42}\"\n",
    "print(hw42)\n",
    "hw42 = F\"{h} {w} {42}\"\n",
    "print(hw42)"
   ]
  },
  {
   "cell_type": "markdown",
   "metadata": {},
   "source": [
    "More on the comparison of these three ways of formatting strings [here](https://realpython.com/python-f-strings)."
   ]
  },
  {
   "cell_type": "markdown",
   "metadata": {},
   "source": [
    "#### String methods\n",
    "String objects have a bunch of useful methods. For example:"
   ]
  },
  {
   "cell_type": "code",
   "execution_count": null,
   "metadata": {
    "ExecuteTime": {
     "end_time": "2020-03-02T10:06:59.366096Z",
     "start_time": "2020-03-02T10:06:59.305Z"
    }
   },
   "outputs": [],
   "source": [
    "s = \"data\"\n",
    "print(s.capitalize())           # capitalize: prints 'Data'\n",
    "print(s.upper())                # convert to uppercase: prints 'DATA'\n",
    "print(s.rjust(7))               # right-justify, padding with spaces: prints '   data'\n",
    "print(s.center(7))              # center, padding with spaces: prints '  data '\n",
    "print(s.replace('t', '(TT)'))   # replace all instances of substring with another: prints 'da(TT)a'\n",
    "print('  analysis    '.strip()) # strip leading and trailing whitespaces: prints 'analysis'"
   ]
  },
  {
   "cell_type": "markdown",
   "metadata": {},
   "source": [
    "You can find a list of all string methods in the [documentation](https://docs.python.org/3/library/stdtypes.html#string-methods)."
   ]
  },
  {
   "cell_type": "markdown",
   "metadata": {},
   "source": [
    "## Composite types\n",
    "Python includes several built-in container types: lists, tuples, dictionaries, and sets.\n",
    "\n",
    "### Lists\n",
    "A list is the Python equivalent of a resizable array, and can contain elements of different types. Lists are declared between square brackets `[]`:"
   ]
  },
  {
   "cell_type": "code",
   "execution_count": null,
   "metadata": {
    "ExecuteTime": {
     "end_time": "2020-03-02T10:06:59.366096Z",
     "start_time": "2020-03-02T10:06:59.310Z"
    },
    "scrolled": true
   },
   "outputs": [],
   "source": [
    "lst = [1, \"a\", True, 2]   # create a list\n",
    "print(lst)                # prints [1, 'a', True, 2]\n",
    "print(lst[0])             # indices start at 0: prints 1\n",
    "print(lst[-1])            # negative indices count from the end of the list: prints 2"
   ]
  },
  {
   "cell_type": "code",
   "execution_count": null,
   "metadata": {
    "ExecuteTime": {
     "end_time": "2020-03-02T10:06:59.367094Z",
     "start_time": "2020-03-02T10:06:59.314Z"
    }
   },
   "outputs": [],
   "source": [
    "lst.append(\"new\") # add a new element to the end of the list\n",
    "print(lst)"
   ]
  },
  {
   "cell_type": "code",
   "execution_count": null,
   "metadata": {
    "ExecuteTime": {
     "end_time": "2020-03-02T10:06:59.368091Z",
     "start_time": "2020-03-02T10:06:59.318Z"
    }
   },
   "outputs": [],
   "source": [
    "elem = lst.pop()  # remove last element (using method lst.pop()) and return it\n",
    "print(elem)\n",
    "print(lst) "
   ]
  },
  {
   "cell_type": "markdown",
   "metadata": {},
   "source": [
    "You can find all the details about lists and associated methods in the [documentation](https://docs.python.org/3/tutorial/datastructures.html#more-on-lists)."
   ]
  },
  {
   "cell_type": "markdown",
   "metadata": {},
   "source": [
    "#### Slicing\n",
    "\n",
    "We have just seen how to access list elements by indexing. But usually we will need more than accessing list elements one at a time. Python provides some syntax, called slicing, to access sublists:"
   ]
  },
  {
   "cell_type": "code",
   "execution_count": null,
   "metadata": {
    "ExecuteTime": {
     "end_time": "2020-03-02T10:06:59.369088Z",
     "start_time": "2020-03-02T10:06:59.324Z"
    }
   },
   "outputs": [],
   "source": [
    "numbers = list(range(5)) # create a sequence of integers (of range type) and convert it to list\n",
    "print(numbers)           # prints [0, 1, 2, 3, 4]\n",
    "print(numbers[2:4])      # slice from index 2 to 4 (excluded): prints [2, 3]\n",
    "print(numbers[2:])       # slice from index 2 to the end: prints [2, 3, 4]\n",
    "print(numbers[:2])       # slice from the start to index 2 (excluded): prints [0, 1]\n",
    "print(numbers[:])        # slice of the whole list: prints [0, 1, 2, 3, 4]\n",
    "print(numbers[:-1])      # slicing can also use negative indices: prints [0, 1, 2, 3]\n",
    "numbers[2:4] = [8, 9]    # modify sublist by slicing\n",
    "print(numbers)           # prints [0, 1, 8, 9, 4]"
   ]
  },
  {
   "cell_type": "markdown",
   "metadata": {},
   "source": [
    "#### `If` (conditional) and `in` (membership operator)\n",
    "\n",
    "We can quickly check membership of an element to a list without looping. We just use the conditional keyword `if` and the `in` operator:"
   ]
  },
  {
   "cell_type": "code",
   "execution_count": null,
   "metadata": {
    "ExecuteTime": {
     "end_time": "2020-03-02T10:06:59.370086Z",
     "start_time": "2020-03-02T10:06:59.329Z"
    }
   },
   "outputs": [],
   "source": [
    "pizza_ingredients = ['cheese', 'tomato', 'ham', 'pineapple']\n",
    "if 'pineapple' in pizza_ingredients:\n",
    "    print(\"Are you sure? :(\")\n",
    "else:\n",
    "    print(\"OK, you were scaring me! XD\")"
   ]
  },
  {
   "cell_type": "markdown",
   "metadata": {},
   "source": [
    "#### `for` loops (iterations)\n",
    "\n",
    "Without the `in` operator, we would need to loop over the elements of a list. This is also very easy in Python (note that the `for` loop also uses `in`):"
   ]
  },
  {
   "cell_type": "code",
   "execution_count": null,
   "metadata": {
    "ExecuteTime": {
     "end_time": "2020-03-02T10:06:59.371083Z",
     "start_time": "2020-03-02T10:06:59.333Z"
    }
   },
   "outputs": [],
   "source": [
    "for ingredient in pizza_ingredients:\n",
    "    print(ingredient)"
   ]
  },
  {
   "cell_type": "markdown",
   "metadata": {},
   "source": [
    "If we want access to the index of each element within the body of a loop, we can use the built-in `enumerate` function:"
   ]
  },
  {
   "cell_type": "code",
   "execution_count": null,
   "metadata": {
    "ExecuteTime": {
     "end_time": "2020-03-02T10:06:59.373079Z",
     "start_time": "2020-03-02T10:06:59.338Z"
    }
   },
   "outputs": [],
   "source": [
    "for idx, ingredient in enumerate(pizza_ingredients):\n",
    "    print(idx, ingredient)"
   ]
  },
  {
   "cell_type": "markdown",
   "metadata": {},
   "source": [
    "Or we loop directly using indices using the `range` and `len` functions:"
   ]
  },
  {
   "cell_type": "code",
   "execution_count": null,
   "metadata": {
    "ExecuteTime": {
     "end_time": "2020-03-02T10:06:59.374075Z",
     "start_time": "2020-03-02T10:06:59.342Z"
    }
   },
   "outputs": [],
   "source": [
    "for idx in range(len(pizza_ingredients)):\n",
    "    print(idx, pizza_ingredients[idx])"
   ]
  },
  {
   "cell_type": "markdown",
   "metadata": {},
   "source": [
    "#### List comprehensions\n",
    "\n",
    "When programming, frequently we need to use arrays of data (lists of numbers, words, or any other) to store results or obtain new ones.\n",
    "\n",
    "Imagine that we want a list with the squares of 0 to 5:"
   ]
  },
  {
   "cell_type": "code",
   "execution_count": null,
   "metadata": {
    "ExecuteTime": {
     "end_time": "2020-03-02T10:06:59.375072Z",
     "start_time": "2020-03-02T10:06:59.347Z"
    }
   },
   "outputs": [],
   "source": [
    "squares = []\n",
    "for num in range(6):\n",
    "    squares.append(num ** 2)\n",
    "print(squares)"
   ]
  },
  {
   "cell_type": "markdown",
   "metadata": {},
   "source": [
    "Python provides a (simpler) different way to obtain such a list, called _list comprehension_ :"
   ]
  },
  {
   "cell_type": "code",
   "execution_count": null,
   "metadata": {
    "ExecuteTime": {
     "end_time": "2020-03-02T10:06:59.376069Z",
     "start_time": "2020-03-02T10:06:59.353Z"
    }
   },
   "outputs": [],
   "source": [
    "squares = [num*num for num in range(6)]\n",
    "print(squares)"
   ]
  },
  {
   "cell_type": "markdown",
   "metadata": {},
   "source": [
    "Comprehensions can also contain conditions to create more _elaborate_ lists:"
   ]
  },
  {
   "cell_type": "code",
   "execution_count": 2,
   "metadata": {
    "ExecuteTime": {
     "end_time": "2020-03-02T10:06:59.461840Z",
     "start_time": "2020-03-02T10:06:59.455856Z"
    }
   },
   "outputs": [
    {
     "name": "stdout",
     "output_type": "stream",
     "text": [
      "[36, 256, 676, 1296, 2116]\n"
     ]
    }
   ],
   "source": [
    "squares_end_in_6 = [num*num for num in range(51) if num%10 == 6]\n",
    "print(squares_end_in_6)"
   ]
  },
  {
   "cell_type": "code",
   "execution_count": 3,
   "metadata": {
    "ExecuteTime": {
     "end_time": "2020-03-02T10:06:59.468821Z",
     "start_time": "2020-03-02T10:06:59.463835Z"
    }
   },
   "outputs": [
    {
     "name": "stdout",
     "output_type": "stream",
     "text": [
      "[2, 3, 5, 7, 11, 13, 17, 19, 23, 29, 31, 37, 41, 43, 47]\n"
     ]
    }
   ],
   "source": [
    "primes = [num for num in range(2, 51)\n",
    "          if all(num % div != 0 for div in range(2, int(num**0.5+1)))]\n",
    "print(primes)"
   ]
  },
  {
   "cell_type": "markdown",
   "metadata": {},
   "source": [
    "Note that the syntax of comprehensions feels like a math formula expressed in English, we barely need to know Python!"
   ]
  },
  {
   "cell_type": "markdown",
   "metadata": {},
   "source": [
    "### Dictionaries\n",
    "\n",
    "Dictionaries store data in (key, value) pairs, similar to a `Map` in Java or an object in Javascript. They are declared using curly brackets `{}`. Colons `:` are used to indicate values associated with keys, and (as usual) commas `,` are used to separe elements: "
   ]
  },
  {
   "cell_type": "code",
   "execution_count": 4,
   "metadata": {
    "ExecuteTime": {
     "end_time": "2020-03-02T10:06:59.479796Z",
     "start_time": "2020-03-02T10:06:59.470817Z"
    }
   },
   "outputs": [
    {
     "name": "stdout",
     "output_type": "stream",
     "text": [
      "red\n"
     ]
    },
    {
     "data": {
      "text/plain": [
       "True"
      ]
     },
     "execution_count": 4,
     "metadata": {},
     "output_type": "execute_result"
    }
   ],
   "source": [
    "characters = {'Mario': 'red', 'Luigi': 'green'}  # create new dictionary\n",
    "print(characters['Mario']) # get entry: prints red\n",
    "'Mario' in characters # check if key is in dictionary (True)"
   ]
  },
  {
   "cell_type": "code",
   "execution_count": 5,
   "metadata": {
    "ExecuteTime": {
     "end_time": "2020-03-02T10:06:59.485776Z",
     "start_time": "2020-03-02T10:06:59.480789Z"
    }
   },
   "outputs": [
    {
     "name": "stdout",
     "output_type": "stream",
     "text": [
      "yellow\n"
     ]
    }
   ],
   "source": [
    "characters['Wario'] = 'yellow' # add entry to dictionary\n",
    "print(characters['Wario'])     # prints yellow"
   ]
  },
  {
   "cell_type": "code",
   "execution_count": 6,
   "metadata": {
    "ExecuteTime": {
     "end_time": "2020-03-02T10:06:59.495749Z",
     "start_time": "2020-03-02T10:06:59.487771Z"
    }
   },
   "outputs": [
    {
     "ename": "KeyError",
     "evalue": "'Toad'",
     "output_type": "error",
     "traceback": [
      "\u001b[1;31m---------------------------------------------------------------------------\u001b[0m",
      "\u001b[1;31mKeyError\u001b[0m                                  Traceback (most recent call last)",
      "\u001b[1;32m<ipython-input-6-fe8cb6261abb>\u001b[0m in \u001b[0;36m<module>\u001b[1;34m\u001b[0m\n\u001b[1;32m----> 1\u001b[1;33m \u001b[0mprint\u001b[0m\u001b[1;33m(\u001b[0m\u001b[0mcharacters\u001b[0m\u001b[1;33m[\u001b[0m\u001b[1;34m'Toad'\u001b[0m\u001b[1;33m]\u001b[0m\u001b[1;33m)\u001b[0m  \u001b[1;31m# KeyError: 'Toad'\u001b[0m\u001b[1;33m\u001b[0m\u001b[1;33m\u001b[0m\u001b[0m\n\u001b[0m",
      "\u001b[1;31mKeyError\u001b[0m: 'Toad'"
     ]
    }
   ],
   "source": [
    "print(characters['Toad'])  # KeyError: 'Toad'"
   ]
  },
  {
   "cell_type": "markdown",
   "metadata": {},
   "source": [
    "To avoid errors when accessing non-existent keys, we can use the `d.get()` method and set a default value to be returned:"
   ]
  },
  {
   "cell_type": "code",
   "execution_count": null,
   "metadata": {
    "ExecuteTime": {
     "end_time": "2020-03-02T10:06:59.497744Z",
     "start_time": "2020-03-02T10:06:59.395Z"
    }
   },
   "outputs": [],
   "source": [
    "print(characters.get('Toad', 'N/A'))  # get element: prints N/A\n",
    "print(characters.get('Wario', 'N/A'))  # get element: prints yellow"
   ]
  },
  {
   "cell_type": "code",
   "execution_count": null,
   "metadata": {
    "ExecuteTime": {
     "end_time": "2020-03-02T10:06:59.498741Z",
     "start_time": "2020-03-02T10:06:59.400Z"
    }
   },
   "outputs": [],
   "source": [
    "del characters['Mario'] # remove element from dictionary\n",
    "print(characters.get('Mario', 'N/A')) # 'Mario' is no longer a key: prints N/A"
   ]
  },
  {
   "cell_type": "markdown",
   "metadata": {},
   "source": [
    "Note that it is as easy to iterate over the elements of a list as it is over the keys in a dictionary:"
   ]
  },
  {
   "cell_type": "code",
   "execution_count": null,
   "metadata": {
    "ExecuteTime": {
     "end_time": "2020-03-02T10:06:59.499738Z",
     "start_time": "2020-03-02T10:06:59.405Z"
    }
   },
   "outputs": [],
   "source": [
    "d = {'person': 2, 'cat': 4, 'spider': 8}\n",
    "for animal in d:\n",
    "    print(f\"A {animal} has {d[animal]} legs\")"
   ]
  },
  {
   "cell_type": "markdown",
   "metadata": {},
   "source": [
    "We can access keys and their corresponding values through the `d.items()` method:"
   ]
  },
  {
   "cell_type": "code",
   "execution_count": null,
   "metadata": {
    "ExecuteTime": {
     "end_time": "2020-03-02T10:06:59.500735Z",
     "start_time": "2020-03-02T10:06:59.410Z"
    }
   },
   "outputs": [],
   "source": [
    "for animal, legs in d.items():\n",
    "    print(f\"A {animal} has {legs} legs\")"
   ]
  },
  {
   "cell_type": "markdown",
   "metadata": {},
   "source": [
    "In Python 3, we typically say that dictionaries do not have any particular order and we cannot make any assumption when we iterate on them. However, this changed in version 3.7 and since then the dictionary order is guaranteed to be insertion order.\n",
    "\n",
    "All this and much more you can find in the dictionary-related [documentation](https://docs.python.org/3/library/stdtypes.html#dict)."
   ]
  },
  {
   "cell_type": "markdown",
   "metadata": {},
   "source": [
    "#### Dictionary comprehensions\n",
    "\n",
    "They are similar to list comprehensions, but allow us to easily construct dictionaries. For example:"
   ]
  },
  {
   "cell_type": "code",
   "execution_count": null,
   "metadata": {
    "ExecuteTime": {
     "end_time": "2020-03-02T10:06:59.501733Z",
     "start_time": "2020-03-02T10:06:59.419Z"
    }
   },
   "outputs": [],
   "source": [
    "sq_end_in_6 = {num: num*num for num in range(51) if num%10 == 6}\n",
    "print(sq_end_in_6)"
   ]
  },
  {
   "cell_type": "markdown",
   "metadata": {},
   "source": [
    "### Sets\n",
    "\n",
    "Sets are unordered collections of elements defined using curly braces `{}`. Elements cannot be repeated. Consider the following example:"
   ]
  },
  {
   "cell_type": "code",
   "execution_count": null,
   "metadata": {
    "ExecuteTime": {
     "end_time": "2020-03-02T10:06:59.502731Z",
     "start_time": "2020-03-02T10:06:59.424Z"
    }
   },
   "outputs": [],
   "source": [
    "gemstones = {'diamond', 'onyx', 'spinel', 'ruby'}\n",
    "print('emerald' in gemstones) # check if element is in set: prints False\n",
    "print('onyx' in gemstones)    # prints True"
   ]
  },
  {
   "cell_type": "code",
   "execution_count": null,
   "metadata": {
    "ExecuteTime": {
     "end_time": "2020-03-02T10:06:59.503729Z",
     "start_time": "2020-03-02T10:06:59.428Z"
    }
   },
   "outputs": [],
   "source": [
    "gemstones.add('garnet')      # add element to set\n",
    "print('garnet' in gemstones)\n",
    "print(len(gemstones))        # Number of elements in a set;"
   ]
  },
  {
   "cell_type": "code",
   "execution_count": null,
   "metadata": {
    "ExecuteTime": {
     "end_time": "2020-03-02T10:06:59.504733Z",
     "start_time": "2020-03-02T10:06:59.433Z"
    }
   },
   "outputs": [],
   "source": [
    "gemstones.add('onyx')   # add element already in set: does nothing (no repetition)\n",
    "print(len(gemstones))        \n",
    "gemstones.remove('spinel')   # remove element from set\n",
    "print(len(gemstones))"
   ]
  },
  {
   "cell_type": "markdown",
   "metadata": {},
   "source": [
    "Since sets are unordered, when iterating over their elements we cannot make any assumption on the order the elements will appear:"
   ]
  },
  {
   "cell_type": "code",
   "execution_count": null,
   "metadata": {
    "ExecuteTime": {
     "end_time": "2020-03-02T10:06:59.505723Z",
     "start_time": "2020-03-02T10:06:59.438Z"
    }
   },
   "outputs": [],
   "source": [
    "for idx, gem in enumerate(gemstones):\n",
    "    print(f\"{idx}: {gem}\") # prints 0: onyx 1: ruby 2: diamond 3: garnet"
   ]
  },
  {
   "cell_type": "markdown",
   "metadata": {},
   "source": [
    "#### Set comprehensions\n",
    "\n",
    "Similarly to lists and dictionaries, we can easily create sets using comprehensions:"
   ]
  },
  {
   "cell_type": "code",
   "execution_count": null,
   "metadata": {
    "ExecuteTime": {
     "end_time": "2020-03-02T10:06:59.506720Z",
     "start_time": "2020-03-02T10:06:59.443Z"
    }
   },
   "outputs": [],
   "source": [
    "int_roots = {int(num**0.5) for num in range(10)}\n",
    "print(int_roots)"
   ]
  },
  {
   "cell_type": "markdown",
   "metadata": {},
   "source": [
    "### Tuples\n",
    "\n",
    "Tuples are the **immutable** equivalent of lists: they contain an ordered collection of data, but cannot be modified.\n",
    "\n",
    "One of the most important differences between tuples and lists is that tuples can be used as keys in dictionaries (because they are immutable, and therefore hashable) and as elements of sets, while lists cannot.\n",
    "\n",
    "Here is an example:"
   ]
  },
  {
   "cell_type": "code",
   "execution_count": null,
   "metadata": {
    "ExecuteTime": {
     "end_time": "2020-03-02T10:06:59.508715Z",
     "start_time": "2020-03-02T10:06:59.454Z"
    }
   },
   "outputs": [],
   "source": [
    "dct = {(num, num+1): [num, num+1] for num in range(5)}  # create dict with tuple keys\n",
    "print(dct)\n",
    "tpl = (2, 3) # create tuple\n",
    "print(tpl)\n",
    "print(type(tpl))\n",
    "print(dct[tpl])"
   ]
  },
  {
   "cell_type": "markdown",
   "metadata": {},
   "source": [
    "Let's check that tuples are, indeed, immutable:"
   ]
  },
  {
   "cell_type": "code",
   "execution_count": null,
   "metadata": {
    "ExecuteTime": {
     "end_time": "2020-03-02T10:06:59.509712Z",
     "start_time": "2020-03-02T10:06:59.461Z"
    }
   },
   "outputs": [],
   "source": [
    "tpl[0] = 1"
   ]
  },
  {
   "cell_type": "markdown",
   "metadata": {},
   "source": [
    "## More looping\n",
    "\n",
    "We have already seen how looping using `for` is done in Python. But we can also use the universal interator `while` for looping. Everything that can be done using `for` can be done using `while`(but the contrary is not true for all cases).\n",
    "\n",
    "`while` is especially useful when we do not know exactly how many times we need to iterate because the end of looping depends on some logical condition:"
   ]
  },
  {
   "cell_type": "code",
   "execution_count": null,
   "metadata": {
    "ExecuteTime": {
     "end_time": "2020-03-02T10:06:59.510709Z",
     "start_time": "2020-03-02T10:06:59.470Z"
    }
   },
   "outputs": [],
   "source": [
    "from random import randint\n",
    "\n",
    "\n",
    "def guess_the_number():\n",
    "    target = randint(1, 100)\n",
    "    print(\"I've selected a number, can you guess it?\\n\")\n",
    "\n",
    "    num = int(input(\"Choose a number between 1 and 100: \"))\n",
    "    while num != target:\n",
    "        if num > target:\n",
    "            print(\"Too big!\")\n",
    "        else:\n",
    "            print(\"Too small!\")\n",
    "        num = int(input(\"Choose a number between 1 and 100: \"))\n",
    "\n",
    "    print(\"\\nVery good!!! It was\", target)\n",
    "\n",
    "\n",
    "guess_the_number()"
   ]
  },
  {
   "cell_type": "markdown",
   "metadata": {},
   "source": [
    "## Functions\n",
    "\n",
    "The definition of functions in Python uses the `def` keyword. Let's define a function to know if a year is a [leap year](https://en.wikipedia.org/wiki/Leap_year) or not:"
   ]
  },
  {
   "cell_type": "code",
   "execution_count": null,
   "metadata": {
    "ExecuteTime": {
     "end_time": "2020-03-02T10:06:59.511710Z",
     "start_time": "2020-03-02T10:06:59.476Z"
    }
   },
   "outputs": [],
   "source": [
    "def is_leap_year(year):\n",
    "    is_leap = False\n",
    "    if year%400 == 0:\n",
    "        is_leap = True\n",
    "    elif year%100 == 0:\n",
    "        is_leap = False\n",
    "    elif year%4 == 0:\n",
    "        is_leap = True\n",
    "    return is_leap\n",
    "\n",
    "\n",
    "for year in [1992, 1998, 2000, 2100]:\n",
    "    print(f\"{year} is leap year? {is_leap_year(year)}\")"
   ]
  },
  {
   "cell_type": "markdown",
   "metadata": {},
   "source": [
    "Python enthusiasts will even make the function more compact (more Pythonic) using a one-liner:"
   ]
  },
  {
   "cell_type": "code",
   "execution_count": null,
   "metadata": {
    "ExecuteTime": {
     "end_time": "2020-03-02T10:06:59.512704Z",
     "start_time": "2020-03-02T10:06:59.485Z"
    }
   },
   "outputs": [],
   "source": [
    "def is_leap_year(year):\n",
    "    return (year%400 == 0 or not year%100 == 0) and year%4 == 0\n",
    "\n",
    "\n",
    "for year in [1992, 1998, 2000, 2100]:\n",
    "    print(f\"{year} is leap year? {is_leap_year(year)}\")"
   ]
  },
  {
   "cell_type": "markdown",
   "metadata": {},
   "source": [
    "We can also define functions that take optional keyword arguments:"
   ]
  },
  {
   "cell_type": "code",
   "execution_count": null,
   "metadata": {
    "ExecuteTime": {
     "end_time": "2020-03-02T10:06:59.513702Z",
     "start_time": "2020-03-02T10:06:59.494Z"
    }
   },
   "outputs": [],
   "source": [
    "def hello(name, loud=False):\n",
    "    msg = f\"Hello, {name}!\"\n",
    "    if loud:\n",
    "        print(msg.upper())\n",
    "    else:\n",
    "        print(msg)\n",
    "\n",
    "\n",
    "hello('Bob')\n",
    "hello('Stuart', True)\n",
    "hello('Kevin', loud=True)"
   ]
  },
  {
   "cell_type": "markdown",
   "metadata": {},
   "source": [
    "Note the clean indentation Python code. Everything indented 4 spaces after the definition of the function is the actual function code. Once we unindent, the code is outside of the function and becomes the _main program_.\n",
    "\n",
    "Function definitions must be executed before they have any effect.\n",
    "\n",
    "As a side note, we must know that it is a good programming practice to put the main code under a conditional statement \n",
    "\n",
    "`if __name__ == \"__main__\"`\n",
    "\n",
    "to avoid namespace issues if we are going to import our code into another program somewhere in the future:"
   ]
  },
  {
   "cell_type": "code",
   "execution_count": 7,
   "metadata": {
    "ExecuteTime": {
     "end_time": "2020-03-02T10:06:59.603461Z",
     "start_time": "2020-03-02T10:06:59.598475Z"
    }
   },
   "outputs": [
    {
     "name": "stdout",
     "output_type": "stream",
     "text": [
      "Hello, Bob!\n",
      "HELLO, STUART!\n",
      "HELLO, KEVIN!\n"
     ]
    }
   ],
   "source": [
    "def hello(name, loud=False):\n",
    "    msg = f\"Hello, {name}!\"\n",
    "    if loud:\n",
    "        print(msg.upper())\n",
    "    else:\n",
    "        print(msg)\n",
    "\n",
    "\n",
    "if __name__ == \"__main__\":\n",
    "    hello(\"Bob\")\n",
    "    hello(\"Stuart\", True)\n",
    "    hello(\"Kevin\", loud=True)"
   ]
  },
  {
   "cell_type": "markdown",
   "metadata": {},
   "source": [
    "This is not a big issue for Jupyter Notebooks, but it is very useful for plain Python code that we want to share, export, or run elsewhere. More on this in the [documentation](https://docs.python.org/3/library/__main__.html), and going further into the [namespaces](https://docs.python.org/3/tutorial/classes.html?highlight=namespaces#python-scopes-and-namespaces) as well."
   ]
  },
  {
   "cell_type": "markdown",
   "metadata": {},
   "source": [
    "## Classes\n",
    "\n",
    "We will not be making a thorough review on Python classes or OOP ([Object Oriented Programming](https://realpython.com/python3-object-oriented-programming)) here, but just in case that we need to use classes to define our own objects (or come across some code with them), some basic knowledge will help us.\n",
    "\n",
    "The syntax for defining classes in Python is simple (note _CamelCase_ class names, as recommended in the Style Guide for Python Code [PEP-8](https://www.python.org/dev/peps/pep-0008/#naming-conventions)):"
   ]
  },
  {
   "cell_type": "code",
   "execution_count": 8,
   "metadata": {
    "ExecuteTime": {
     "end_time": "2020-03-02T10:06:59.611440Z",
     "start_time": "2020-03-02T10:06:59.605456Z"
    }
   },
   "outputs": [
    {
     "name": "stdout",
     "output_type": "stream",
     "text": [
      "Hi, my name is Eric and I am 18 years old\n",
      "Eric says: 'Nice to be here'\n"
     ]
    }
   ],
   "source": [
    "class MasterStudent:\n",
    "\n",
    "    # Class atribute\n",
    "    master = \"Neuroengineering and Rehabilitation\"\n",
    "    \n",
    "    # Initializer / instance attributes\n",
    "    def __init__(self, name, age):\n",
    "        self.name = name\n",
    "        self.age = age\n",
    "\n",
    "    # Instance method\n",
    "    def description(self):\n",
    "        return f\"Hi, my name is {self.name} and I am {self.age} years old\"\n",
    "    \n",
    "    # Instance method\n",
    "    def speak(self, message):\n",
    "        return f\"{self.name} says: '{message}'\"\n",
    "\n",
    "\n",
    "eric = MasterStudent(\"Eric\", 18)     # instantiate MasterStudent object\n",
    "print(eric.description())            # call instance method\n",
    "print(eric.speak(\"Nice to be here\")) # call instance method"
   ]
  },
  {
   "cell_type": "markdown",
   "metadata": {},
   "source": [
    "# (Slightly more) Advanced Python\n",
    "\n",
    "Here we will see some examples of Python code that may be useful for us in the future sessions of this course.\n",
    "\n",
    "## Reading and writing data\n",
    "\n",
    "The most convenient method to work with data is to load everything into memory. By doing so, the entire dataset is available at all times. Such a loading process is quite direct, as seen in the following example. \n",
    "\n",
    "_(NOTE: `with` is a context manager that ensures that the handle to the file is closed automatically)_"
   ]
  },
  {
   "cell_type": "code",
   "execution_count": 9,
   "metadata": {
    "ExecuteTime": {
     "end_time": "2020-03-02T10:06:59.641360Z",
     "start_time": "2020-03-02T10:06:59.612437Z"
    },
    "cell_style": "center"
   },
   "outputs": [
    {
     "name": "stdout",
     "output_type": "stream",
     "text": [
      "Reading data:\n"
     ]
    },
    {
     "ename": "UnicodeDecodeError",
     "evalue": "'charmap' codec can't decode byte 0x81 in position 9385: character maps to <undefined>",
     "output_type": "error",
     "traceback": [
      "\u001b[1;31m---------------------------------------------------------------------------\u001b[0m",
      "\u001b[1;31mUnicodeDecodeError\u001b[0m                        Traceback (most recent call last)",
      "\u001b[1;32m<ipython-input-9-a226edec0ea5>\u001b[0m in \u001b[0;36m<module>\u001b[1;34m\u001b[0m\n\u001b[0;32m      1\u001b[0m \u001b[1;32mwith\u001b[0m \u001b[0mopen\u001b[0m\u001b[1;33m(\u001b[0m\u001b[1;34m\"airports.csv\"\u001b[0m\u001b[1;33m,\u001b[0m \u001b[1;34m\"r\"\u001b[0m\u001b[1;33m)\u001b[0m \u001b[1;32mas\u001b[0m \u001b[0mf\u001b[0m\u001b[1;33m:\u001b[0m\u001b[1;33m\u001b[0m\u001b[1;33m\u001b[0m\u001b[0m\n\u001b[0;32m      2\u001b[0m     \u001b[0mprint\u001b[0m\u001b[1;33m(\u001b[0m\u001b[1;34m\"Reading data:\"\u001b[0m\u001b[1;33m)\u001b[0m\u001b[1;33m\u001b[0m\u001b[1;33m\u001b[0m\u001b[0m\n\u001b[1;32m----> 3\u001b[1;33m     \u001b[0mprint\u001b[0m\u001b[1;33m(\u001b[0m\u001b[0mf\u001b[0m\u001b[1;33m.\u001b[0m\u001b[0mread\u001b[0m\u001b[1;33m(\u001b[0m\u001b[1;33m)\u001b[0m\u001b[1;33m)\u001b[0m\u001b[1;33m\u001b[0m\u001b[1;33m\u001b[0m\u001b[0m\n\u001b[0m",
      "\u001b[1;32mD:\\JFAlonso\\Apps\\Anaconda3\\lib\\encodings\\cp1252.py\u001b[0m in \u001b[0;36mdecode\u001b[1;34m(self, input, final)\u001b[0m\n\u001b[0;32m     21\u001b[0m \u001b[1;32mclass\u001b[0m \u001b[0mIncrementalDecoder\u001b[0m\u001b[1;33m(\u001b[0m\u001b[0mcodecs\u001b[0m\u001b[1;33m.\u001b[0m\u001b[0mIncrementalDecoder\u001b[0m\u001b[1;33m)\u001b[0m\u001b[1;33m:\u001b[0m\u001b[1;33m\u001b[0m\u001b[1;33m\u001b[0m\u001b[0m\n\u001b[0;32m     22\u001b[0m     \u001b[1;32mdef\u001b[0m \u001b[0mdecode\u001b[0m\u001b[1;33m(\u001b[0m\u001b[0mself\u001b[0m\u001b[1;33m,\u001b[0m \u001b[0minput\u001b[0m\u001b[1;33m,\u001b[0m \u001b[0mfinal\u001b[0m\u001b[1;33m=\u001b[0m\u001b[1;32mFalse\u001b[0m\u001b[1;33m)\u001b[0m\u001b[1;33m:\u001b[0m\u001b[1;33m\u001b[0m\u001b[1;33m\u001b[0m\u001b[0m\n\u001b[1;32m---> 23\u001b[1;33m         \u001b[1;32mreturn\u001b[0m \u001b[0mcodecs\u001b[0m\u001b[1;33m.\u001b[0m\u001b[0mcharmap_decode\u001b[0m\u001b[1;33m(\u001b[0m\u001b[0minput\u001b[0m\u001b[1;33m,\u001b[0m\u001b[0mself\u001b[0m\u001b[1;33m.\u001b[0m\u001b[0merrors\u001b[0m\u001b[1;33m,\u001b[0m\u001b[0mdecoding_table\u001b[0m\u001b[1;33m)\u001b[0m\u001b[1;33m[\u001b[0m\u001b[1;36m0\u001b[0m\u001b[1;33m]\u001b[0m\u001b[1;33m\u001b[0m\u001b[1;33m\u001b[0m\u001b[0m\n\u001b[0m\u001b[0;32m     24\u001b[0m \u001b[1;33m\u001b[0m\u001b[0m\n\u001b[0;32m     25\u001b[0m \u001b[1;32mclass\u001b[0m \u001b[0mStreamWriter\u001b[0m\u001b[1;33m(\u001b[0m\u001b[0mCodec\u001b[0m\u001b[1;33m,\u001b[0m\u001b[0mcodecs\u001b[0m\u001b[1;33m.\u001b[0m\u001b[0mStreamWriter\u001b[0m\u001b[1;33m)\u001b[0m\u001b[1;33m:\u001b[0m\u001b[1;33m\u001b[0m\u001b[1;33m\u001b[0m\u001b[0m\n",
      "\u001b[1;31mUnicodeDecodeError\u001b[0m: 'charmap' codec can't decode byte 0x81 in position 9385: character maps to <undefined>"
     ]
    }
   ],
   "source": [
    "with open(\"airports.csv\", \"r\") as f:\n",
    "    print(\"Reading data:\")\n",
    "    print(f.read())"
   ]
  },
  {
   "cell_type": "markdown",
   "metadata": {},
   "source": [
    "The entire dataset is loaded into memory, but this will fail if our system lacks sufficient memory. When this  occurs, you need to consider other techniques such as **streaming** it or **sampling** it.\n",
    "\n",
    "Here’s an example of how we can stream data using Python:"
   ]
  },
  {
   "cell_type": "code",
   "execution_count": null,
   "metadata": {
    "ExecuteTime": {
     "end_time": "2020-03-02T10:06:59.643354Z",
     "start_time": "2020-03-02T10:06:59.524Z"
    }
   },
   "outputs": [],
   "source": [
    "with open(\"airports.csv\", \"r\") as f:\n",
    "    for airport in f:\n",
    "        print('Reading Data:', airport, end=\"\")"
   ]
  },
  {
   "cell_type": "markdown",
   "metadata": {},
   "source": [
    "The `f` file object contains a pointer to the open file. As the code reads using the for loop, the file pointer moves to the next record.\n",
    "\n",
    "Data streaming obtains all the records from a data source. We may not need all the records and then we can save time and resources by simply sampling the data, one every 20 (5%), for example:"
   ]
  },
  {
   "cell_type": "code",
   "execution_count": null,
   "metadata": {
    "ExecuteTime": {
     "end_time": "2020-03-02T10:06:59.644352Z",
     "start_time": "2020-03-02T10:06:59.529Z"
    }
   },
   "outputs": [],
   "source": [
    "jump = 25\n",
    "with open(\"airports.csv\", \"r\", encoding=\"utf-8\") as f:\n",
    "    for num, airport in enumerate(f):\n",
    "        if num%jump == 0:\n",
    "            print(f\"Line {num:<3d} -> {airport}\", end=\"\")"
   ]
  },
  {
   "cell_type": "markdown",
   "metadata": {},
   "source": [
    "Or we can perform random sampling:"
   ]
  },
  {
   "cell_type": "code",
   "execution_count": null,
   "metadata": {
    "ExecuteTime": {
     "end_time": "2020-03-02T10:06:59.646347Z",
     "start_time": "2020-03-02T10:06:59.534Z"
    }
   },
   "outputs": [],
   "source": [
    "import random\n",
    "\n",
    "\n",
    "sample_size = 0.05\n",
    "with open(\"airports.csv\", \"r\", encoding=\"utf-8\") as f:\n",
    "    for num, airport in enumerate(f):\n",
    "        if random.random() <= sample_size:\n",
    "            print(f\"Line {num:<3d} -> {airport}\", end=\"\")"
   ]
  },
  {
   "cell_type": "markdown",
   "metadata": {},
   "source": [
    "One of the biggest issues when using native Python code to read data is that all text is read, there is no difference between a header and the other records, and everything is interpreted as text, meaning that we will be forced to convert numeric data to the correct type.\n",
    "\n",
    "When using this stragegy, we may want to have the simplest and easiest to read text file. However, if we work with comma-separated value (CSV) files we can use the module `csv`:"
   ]
  },
  {
   "cell_type": "code",
   "execution_count": null,
   "metadata": {
    "ExecuteTime": {
     "end_time": "2020-03-02T10:06:59.647344Z",
     "start_time": "2020-03-02T10:06:59.540Z"
    }
   },
   "outputs": [],
   "source": [
    "import csv\n",
    "\n",
    "\n",
    "with open(\"airports.csv\", \"r\", encoding=\"utf-8\") as f:\n",
    "    reader = csv.reader(f)\n",
    "    for row in reader:\n",
    "        print(row)            "
   ]
  },
  {
   "cell_type": "markdown",
   "metadata": {
    "ExecuteTime": {
     "end_time": "2020-02-20T13:44:50.988480Z",
     "start_time": "2020-02-20T13:44:50.985622Z"
    }
   },
   "source": [
    "We can also take advantage of `csv.writer()` to create an object for writing and exporting data into some other application:"
   ]
  },
  {
   "cell_type": "code",
   "execution_count": null,
   "metadata": {
    "ExecuteTime": {
     "end_time": "2020-03-02T10:06:59.648342Z",
     "start_time": "2020-03-02T10:06:59.546Z"
    }
   },
   "outputs": [],
   "source": [
    "import random\n",
    "\n",
    "\n",
    "sample_size = 0.05\n",
    "with open(\"airports.csv\", \"r\", encoding=\"utf-8\") as f_in, open(\"sample.csv\", \"w\", encoding=\"utf-8\") as f_out:\n",
    "    reader = csv.reader(f_in)\n",
    "    writer = csv.writer(f_out, delimiter=\";\", lineterminator=\"\\n\")\n",
    "    \n",
    "    for row in reader:\n",
    "        if random.random() <= sample_size:\n",
    "            writer.writerow(row)"
   ]
  },
  {
   "cell_type": "markdown",
   "metadata": {
    "ExecuteTime": {
     "end_time": "2020-02-20T14:03:14.387307Z",
     "start_time": "2020-02-20T14:03:14.385224Z"
    }
   },
   "source": [
    "## Lambda functions\n",
    "\n",
    "Lambda functions (also called anonymous functions) are small, restricted functions which do not need an identifier (name). They can take any number of arguments, but can only have one expression:\n",
    "\n",
    "`lambda ag1, ag2: expression`"
   ]
  },
  {
   "cell_type": "code",
   "execution_count": null,
   "metadata": {
    "ExecuteTime": {
     "end_time": "2020-03-02T10:06:59.649339Z",
     "start_time": "2020-03-02T10:06:59.551Z"
    }
   },
   "outputs": [],
   "source": [
    "def square(x):\n",
    "    return x*x\n",
    "\n",
    "\n",
    "new_square = lambda a: a*a\n",
    "\n",
    "\n",
    "print(square(5))\n",
    "print(new_square(5))"
   ]
  },
  {
   "cell_type": "markdown",
   "metadata": {
    "ExecuteTime": {
     "end_time": "2020-02-20T14:03:14.387307Z",
     "start_time": "2020-02-20T14:03:14.385224Z"
    }
   },
   "source": [
    "Lambdas turn out very useful when we want to declare a function, online, that weill be required for a short period of time (usually to feed it to another function as an argument):"
   ]
  },
  {
   "cell_type": "code",
   "execution_count": null,
   "metadata": {
    "ExecuteTime": {
     "end_time": "2020-03-02T10:06:59.650337Z",
     "start_time": "2020-03-02T10:06:59.555Z"
    }
   },
   "outputs": [],
   "source": [
    "def modify_list(lst, action):\n",
    "    for i,v in enumerate(lst):\n",
    "        lst[i] = action(v)\n",
    "\n",
    "        \n",
    "values = [1, 3, 5, 7, 9]\n",
    "modify_list(values, lambda a: a*a)\n",
    "print(values)\n",
    "\n",
    "values = [1, 3, 5, 7, 9]\n",
    "modify_list(values, lambda a: a+a)\n",
    "print(values)"
   ]
  },
  {
   "cell_type": "markdown",
   "metadata": {},
   "source": [
    "Note that `modify_list` is a non-productive function (does not return anything). But as lists are mutable collections of values, the function is able to change its values directly (this does not happen with strings or integers, for example).\n",
    "\n",
    "Let's see another example using the buil-in function `sorted`:"
   ]
  },
  {
   "cell_type": "code",
   "execution_count": null,
   "metadata": {
    "ExecuteTime": {
     "end_time": "2020-03-02T10:06:59.651333Z",
     "start_time": "2020-03-02T10:06:59.560Z"
    }
   },
   "outputs": [],
   "source": [
    "? sorted"
   ]
  },
  {
   "cell_type": "code",
   "execution_count": null,
   "metadata": {
    "ExecuteTime": {
     "end_time": "2020-03-02T10:06:59.653328Z",
     "start_time": "2020-03-02T10:06:59.564Z"
    }
   },
   "outputs": [],
   "source": [
    "unsorted = [('Mike', 7), ('Anne', 10), ('Gwen', 9), ('Dave', 5)]\n",
    "print(sorted(unsorted))\n",
    "print(sorted(unsorted, key=lambda x: x[1], reverse=True))"
   ]
  },
  {
   "cell_type": "markdown",
   "metadata": {
    "ExecuteTime": {
     "end_time": "2020-02-20T14:03:14.387307Z",
     "start_time": "2020-02-20T14:03:14.385224Z"
    }
   },
   "source": [
    "## `map`, `filter`, `reduce`\n",
    "\n",
    "`map` takes a function and a collection of values as arguments, applying the function to each element in the collection. It can be very useful when we want to use so-called _map-reduce_ functional pattern for processing collections of data:"
   ]
  },
  {
   "cell_type": "code",
   "execution_count": null,
   "metadata": {
    "ExecuteTime": {
     "end_time": "2020-03-02T10:06:59.654325Z",
     "start_time": "2020-03-02T10:06:59.569Z"
    }
   },
   "outputs": [],
   "source": [
    "from math import sqrt\n",
    "\n",
    "\n",
    "values = [1, 3, 5, 7, 9]\n",
    "squares = list(map(lambda a: a*a, values)) # we must convert the resulting map object to list\n",
    "print(squares)\n",
    "\n",
    "new_values = list(map(sqrt, squares))\n",
    "print(new_values)"
   ]
  },
  {
   "cell_type": "markdown",
   "metadata": {},
   "source": [
    "`filter` takes a logical function (output either `True` or `False`) and a collection of values, applying the function to each element in the collection. It only returns those elements whose result is `True`.\n",
    "\n",
    "It is very useful for keeping values passing a test:"
   ]
  },
  {
   "cell_type": "code",
   "execution_count": null,
   "metadata": {
    "ExecuteTime": {
     "end_time": "2020-03-02T10:06:59.655323Z",
     "start_time": "2020-03-02T10:06:59.574Z"
    }
   },
   "outputs": [],
   "source": [
    "squares = list(map(lambda a: a*a, range(1,10)))\n",
    "print(squares)\n",
    "even = list(filter(lambda a: a%2 == 0, squares))\n",
    "print(even)\n",
    "odd = list(filter(lambda a: a%2 == 1, squares))\n",
    "print(odd)"
   ]
  },
  {
   "cell_type": "markdown",
   "metadata": {},
   "source": [
    "And last but not least, `reduce` applies a function of two arguments cumulatively (left to right) to the elements of a collection, so as to reduce the collection to a single value. For example, `reduce(lambda x, y: x+y, [1, 2, 3, 4, 5])` calculates `((((1+2)+3)+4)+5)`.\n",
    "\n",
    "It is useful to _gather_ the results of the application of a function to a collection (as we have done using `map`):"
   ]
  },
  {
   "cell_type": "code",
   "execution_count": null,
   "metadata": {
    "ExecuteTime": {
     "end_time": "2020-03-02T10:06:59.656321Z",
     "start_time": "2020-03-02T10:06:59.579Z"
    }
   },
   "outputs": [],
   "source": [
    "from functools import reduce\n",
    "\n",
    "\n",
    "squares = list(map(lambda a: a*a, range(1,10)))\n",
    "print(squares)\n",
    "filtered = list(filter(lambda a: a%2 == 1, squares))\n",
    "print(filtered)\n",
    "reduced = reduce(lambda a, b: a+b, filtered)\n",
    "print(f\"Sum of odd squares: {reduced}\")"
   ]
  },
  {
   "cell_type": "markdown",
   "metadata": {},
   "source": [
    "Note that in this example we could just have used `sum(filtered)`, complex _reducing_ functions are the ones that make the usefulness of `reduce` emerge."
   ]
  },
  {
   "cell_type": "markdown",
   "metadata": {},
   "source": [
    "## Generators\n",
    "\n",
    "When working with big datasets, we may face a problem with storage. A very big collection of values has to be stored in memory at once to work with it.\n",
    "\n",
    "The performance improvement from the use of generators is the result of the lazy (on demand) generation of values, which translates to lower memory usage. Furthermore, we do not need to wait until all the elements are available before we start to use them.\n",
    "\n",
    "### Generator expression\n",
    "We can create generators using a syntax very similar to comprehensions, replacing brackets by parentheses. Let's recover our example for obtaining prime numbers in an interval:"
   ]
  },
  {
   "cell_type": "code",
   "execution_count": null,
   "metadata": {
    "ExecuteTime": {
     "end_time": "2020-03-02T10:06:59.657317Z",
     "start_time": "2020-03-02T10:06:59.585Z"
    }
   },
   "outputs": [],
   "source": [
    "primes = [ num for num in range(2, 51)\n",
    "           if all(num % div != 0 for div in range(2, int(num**0.5+1))) ]\n",
    "print(type(primes))\n",
    "print(primes)\n",
    "\n",
    "primes2 = ( num for num in range(2, 51)\n",
    "            if all(num % div != 0 for div in range(2, int(num**0.5+1))) )\n",
    "print(type(primes2))\n",
    "print(primes2)"
   ]
  },
  {
   "cell_type": "markdown",
   "metadata": {},
   "source": [
    "See? The list comprehension contains all the prime numbers between 2 and 51, whereas the generator is an object whose elements we must obtain through iteration:"
   ]
  },
  {
   "cell_type": "code",
   "execution_count": null,
   "metadata": {
    "ExecuteTime": {
     "end_time": "2020-03-02T10:06:59.658314Z",
     "start_time": "2020-03-02T10:06:59.590Z"
    }
   },
   "outputs": [],
   "source": [
    "a = 10\n",
    "b = 110\n",
    "primes2 = ( num for num in range(a, b+1)\n",
    "            if all(num % div != 0 for div in range(2, int(num**0.5+1))) )\n",
    "print(f\"Primes between {a} and {b} ending in 7\".upper())\n",
    "for idx, num in enumerate(primes2):\n",
    "    if num%10 == 7:\n",
    "        print(f\"- Prime {idx+1:>2d} is: {num}\")"
   ]
  },
  {
   "cell_type": "markdown",
   "metadata": {},
   "source": [
    "### Our own generator in a function\n",
    "\n",
    "We can define generatators using the `yield` statement instead of a `return`statement. However, generators differ from normal functions:\n",
    "\n",
    "* They can contain one or more yield statements.\n",
    "* When called, they return an object (iterator) but do not start execution immediately\n",
    "* We can iterate through the items using `next()`.\n",
    "* Once the function yields, the function is paused and the control is transferred to the caller.\n",
    "* Local variables and their states are remembered between successive calls.\n",
    "* Finally, when the function terminates, `StopIteration` is raised automatically on further calls.\n",
    "\n",
    "Let's see how all this works with a simple example:"
   ]
  },
  {
   "cell_type": "code",
   "execution_count": null,
   "metadata": {
    "ExecuteTime": {
     "end_time": "2020-03-02T10:06:59.659312Z",
     "start_time": "2020-03-02T10:06:59.596Z"
    }
   },
   "outputs": [],
   "source": [
    "from random import randint\n",
    "\n",
    "\n",
    "def simple_generator():\n",
    "    n = randint(1, 97)\n",
    "    print('First number')\n",
    "    yield n\n",
    "\n",
    "    n += 1\n",
    "    print('Second number')\n",
    "    yield n\n",
    "\n",
    "    n += 1\n",
    "    print('Third (and last) number')\n",
    "    yield n\n",
    "    \n",
    "\n",
    "sg1 = simple_generator()\n",
    "num = next(sg1)\n",
    "print(num)\n",
    "num = next(sg1)\n",
    "print(num)\n",
    "num = next(sg1)\n",
    "print(num)\n",
    "print()\n",
    "\n",
    "sg2 = simple_generator()\n",
    "for item in sg2:\n",
    "    print(item)\n",
    "    \n",
    "# If we try to use sg1 or sg2 again, we get an error\n",
    "num = next(sg1)"
   ]
  },
  {
   "cell_type": "markdown",
   "metadata": {},
   "source": [
    "### Reading CSV files using generators\n",
    "We can take advantage of generators to read CSV files in a more ellegant way by wrapping the CSV reader in a function that returns a generator. If we use `csv.DictReader()` instead of `csv.reader()`, the reader handles headers automatically and returns a dictionary for each row.\n",
    "\n",
    "We can use that to display data selectively:"
   ]
  },
  {
   "cell_type": "code",
   "execution_count": null,
   "metadata": {
    "ExecuteTime": {
     "end_time": "2020-03-02T10:06:59.660309Z",
     "start_time": "2020-03-02T10:06:59.606Z"
    }
   },
   "outputs": [],
   "source": [
    "import csv\n",
    "\n",
    "\n",
    "def read_csv(filename):\n",
    "    with open(filename, \"r\") as f:\n",
    "        reader = csv.DictReader(f)\n",
    "        for row in reader:\n",
    "            yield row\n",
    "\n",
    "\n",
    "csv_file = \"airports.csv\"\n",
    "for idx, row in enumerate(read_csv(csv_file)):\n",
    "    if row[\"municipality\"] and row[\"iata_code\"] and row[\"elevation_ft\"]:\n",
    "        elevation = float(row['elevation_ft'])/3.28084\n",
    "        if elevation < 50:\n",
    "            print(f\"{idx+1:>3d} {row['municipality']:20s} : {row['iata_code']:>4s} ({elevation:>4.1f} m)\")"
   ]
  },
  {
   "cell_type": "markdown",
   "metadata": {},
   "source": [
    "This is much more efficient because the file is not opened, read, or parsed until we need it. And this allows us to work with much larger datasets using the same code as for small files (meaning that our code will be portable and reusable)."
   ]
  },
  {
   "cell_type": "markdown",
   "metadata": {},
   "source": [
    "## Decorators\n",
    "\n",
    "In Python, functions are first-class objects. This means that functions can be passed around and used as arguments or return values just like any other object (integers, floats, strings, lists, etc.). We have already seen some of that when using lambda functions or `map`, `filter` and `reduce`.\n",
    "\n",
    "This means that we can program functions that take functions as arguments. Decorators are just that, wrappers for a function that modify its behaviour.\n",
    "\n",
    "Let's try that with a \"Hello, World!\" example. Imagine that we have the simple function `hello()`:"
   ]
  },
  {
   "cell_type": "code",
   "execution_count": null,
   "metadata": {
    "ExecuteTime": {
     "end_time": "2020-03-02T10:06:59.661306Z",
     "start_time": "2020-03-02T10:06:59.616Z"
    }
   },
   "outputs": [],
   "source": [
    "def hello():\n",
    "    print(\"Hello, World!\")\n",
    "\n",
    "\n",
    "hello()"
   ]
  },
  {
   "cell_type": "markdown",
   "metadata": {},
   "source": [
    "And now we are going to decorate it (note the @decorator syntax before the function being decorated):"
   ]
  },
  {
   "cell_type": "code",
   "execution_count": null,
   "metadata": {
    "ExecuteTime": {
     "end_time": "2020-03-02T10:06:59.662304Z",
     "start_time": "2020-03-02T10:06:59.622Z"
    }
   },
   "outputs": [],
   "source": [
    "def hello_sun(func):\n",
    "    def new_func():\n",
    "        func()\n",
    "        print(\"Hello, Sun!\")\n",
    "    return new_func\n",
    "\n",
    "\n",
    "def hello_galaxy(func):\n",
    "    def new_func():\n",
    "        print(\"Hello, Galaxy!\")\n",
    "        func()\n",
    "    return new_func\n",
    "\n",
    "\n",
    "@hello_galaxy\n",
    "@hello_sun\n",
    "def hello():\n",
    "    print(\"Hello, World!\")\n",
    "\n",
    "    \n",
    "hello()"
   ]
  },
  {
   "cell_type": "markdown",
   "metadata": {},
   "source": [
    "Feel free to play a bit, commenting line 15, or 16, or both, to see the different effects of these two decorators."
   ]
  },
  {
   "cell_type": "markdown",
   "metadata": {
    "ExecuteTime": {
     "end_time": "2020-02-21T12:14:11.631039Z",
     "start_time": "2020-02-21T12:14:11.629312Z"
    }
   },
   "source": [
    "### Debugging functions using decorators\n",
    "We can find many uses for decorators: modify an existing function temporarily (commenting and uncommenting the decoration) or adding functionality to existing code. Remember that it takes less time and effort to write a decorator and apply it to dozens of existing functions than rewriting all these functions!\n",
    "\n",
    "For example, let's see how to add debugging functionality to any function:"
   ]
  },
  {
   "cell_type": "code",
   "execution_count": null,
   "metadata": {
    "ExecuteTime": {
     "end_time": "2020-03-02T10:06:59.663301Z",
     "start_time": "2020-03-02T10:06:59.628Z"
    }
   },
   "outputs": [],
   "source": [
    "def debug(func):\n",
    "    def my_wrapper(*args, **kwargs):\n",
    "        ret = func(*args, **kwargs)\n",
    "        if debugging == True:\n",
    "            print(f\"Called '{func.__name__}' with args: {args}, kwargs: {kwargs}. Returned: {ret}\")\n",
    "        return ret\n",
    "    return my_wrapper\n",
    "\n",
    "\n",
    "@debug\n",
    "def factorial(k):\n",
    "    if k > 1:\n",
    "        return k * factorial(k-1)\n",
    "    else:\n",
    "        return 1\n",
    "\n",
    "\n",
    "debugging = False\n",
    "print(factorial(4))\n",
    "print()\n",
    "debugging = True\n",
    "print(factorial(4))"
   ]
  },
  {
   "cell_type": "markdown",
   "metadata": {},
   "source": [
    "# Still here?\n",
    "\n",
    "That's all about our quick and gentle introduction to Python!\n",
    "\n",
    "In case of doubts or need for additional details or explanations, ask the instructors! Remember that the [documentation](https://docs.python.org/3) and [the internet](https://stackoverflow.com/questions/tagged/python) are full of examples.\n",
    "\n",
    "[The Python Tutorial](http://docs.python.org/3/tutorial/index.html) is always ready and waiting:"
   ]
  },
  {
   "cell_type": "code",
   "execution_count": null,
   "metadata": {
    "ExecuteTime": {
     "end_time": "2020-03-02T10:06:59.664298Z",
     "start_time": "2020-03-02T10:06:59.635Z"
    }
   },
   "outputs": [],
   "source": [
    "from IPython.display import IFrame\n",
    "IFrame('http://docs.python.org/3/tutorial/index.html?useformat=mobile', width=1000, height=600)"
   ]
  },
  {
   "cell_type": "markdown",
   "metadata": {},
   "source": [
    "# <font color=#2F75A3>OK, that's it, turn off your computer and do something constructive</font>"
   ]
  },
  {
   "cell_type": "code",
   "execution_count": 10,
   "metadata": {
    "ExecuteTime": {
     "end_time": "2020-03-02T10:06:59.851093Z",
     "start_time": "2020-03-02T10:06:59.766588Z"
    }
   },
   "outputs": [
    {
     "data": {
      "image/jpeg": "[encoded data removed]",
      "text/html": [
       "\n",
       "        <iframe\n",
       "            width=\"960\"\n",
       "            height=\"600\"\n",
       "            src=\"https://www.youtube.com/embed/o1XstQdo6d0\"\n",
       "            frameborder=\"0\"\n",
       "            allowfullscreen\n",
       "        ></iframe>\n",
       "        "
      ],
      "text/plain": [
       "<IPython.lib.display.YouTubeVideo at 0x1757049f1c8>"
      ]
     },
     "execution_count": 10,
     "metadata": {},
     "output_type": "execute_result"
    }
   ],
   "source": [
    "from IPython.display import YouTubeVideo\n",
    "YouTubeVideo('o1XstQdo6d0', width=960, height=600)"
   ]
  },
  {
   "cell_type": "markdown",
   "metadata": {},
   "source": [
    "Seriously, take a break or you'll reach [the end of the internet](http://endoftheinternet.com) soon..."
   ]
  },
  {
   "cell_type": "code",
   "execution_count": null,
   "metadata": {},
   "outputs": [],
   "source": []
  }
 ],
 "metadata": {
  "kernelspec": {
   "display_name": "Python 3",
   "language": "python",
   "name": "python3"
  },
  "language_info": {
   "codemirror_mode": {
    "name": "ipython",
    "version": 3
   },
   "file_extension": ".py",
   "mimetype": "text/x-python",
   "name": "python",
   "nbconvert_exporter": "python",
   "pygments_lexer": "ipython3",
   "version": "3.7.4"
  },
  "toc": {
   "base_numbering": 1,
   "nav_menu": {},
   "number_sections": false,
   "sideBar": true,
   "skip_h1_title": false,
   "title_cell": "Table of Contents",
   "title_sidebar": "Contents",
   "toc_cell": false,
   "toc_position": {
    "height": "calc(100% - 180px)",
    "left": "10px",
    "top": "150px",
    "width": "369.594px"
   },
   "toc_section_display": true,
   "toc_window_display": true
  },
  "varInspector": {
   "cols": {
    "lenName": 16,
    "lenType": 16,
    "lenVar": 40
   },
   "kernels_config": {
    "python": {
     "delete_cmd_postfix": "",
     "delete_cmd_prefix": "del ",
     "library": "var_list.py",
     "varRefreshCmd": "print(var_dic_list())"
    },
    "r": {
     "delete_cmd_postfix": ") ",
     "delete_cmd_prefix": "rm(",
     "library": "var_list.r",
     "varRefreshCmd": "cat(var_dic_list()) "
    }
   },
   "position": {
    "height": "717px",
    "left": "1550px",
    "right": "20px",
    "top": "120px",
    "width": "350px"
   },
   "types_to_exclude": [
    "module",
    "function",
    "builtin_function_or_method",
    "instance",
    "_Feature"
   ],
   "window_display": true
  }
 },
 "nbformat": 4,
 "nbformat_minor": 1
}
