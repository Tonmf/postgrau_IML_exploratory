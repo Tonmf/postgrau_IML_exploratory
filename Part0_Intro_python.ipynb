{
 "cells": [
  {
   "cell_type": "markdown",
   "metadata": {
    "slideshow": {
     "slide_type": "slide"
    }
   },
   "source": [
    "# Introduction to Python programming\n",
    "\n",
    "1. Data types\n",
    "2. Flux control\n",
    "3. Functional language\n",
    "4. Object-oriented programming\n",
    "\n"
   ]
  },
  {
   "cell_type": "markdown",
   "metadata": {
    "slideshow": {
     "slide_type": "slide"
    }
   },
   "source": [
    "## 1. Data types:"
   ]
  },
  {
   "cell_type": "markdown",
   "metadata": {
    "slideshow": {
     "slide_type": "subslide"
    }
   },
   "source": [
    "**Tuplas:**\n",
    "Una tupla es una secuencia inmutable y ordenada de elementos. Cada\n",
    "uno de los elementos que conforman una tupla puede ser de cualquier\n",
    "tipo (básico o no). La sintaxis para declarar una tupla consiste en especificar\n",
    "sus elementos separados por una coma (,)."
   ]
  },
  {
   "cell_type": "code",
   "execution_count": 1,
   "metadata": {
    "slideshow": {
     "slide_type": "subslide"
    }
   },
   "outputs": [
    {
     "name": "stdout",
     "output_type": "stream",
     "text": [
      "(('hola', 2, 3), 90)\n",
      "('e', 'j', 'e', 'm', 'p', 'l', 'o')\n"
     ]
    }
   ],
   "source": [
    "tupla_vacia = ( )\n",
    "tupla1 = 1 ,2 ,3 ,4 ,6 ,\n",
    "tupla1b = (1 , 2 , 3 , 4 , 6)\n",
    "tupla2 = 'hola', 2 ,3\n",
    "tupla3 = tupla2 , 90\n",
    "tupla4 = tuple('ejemplo')\n",
    "print(tupla3)\n",
    "print(tupla4)"
   ]
  },
  {
   "cell_type": "markdown",
   "metadata": {
    "slideshow": {
     "slide_type": "slide"
    }
   },
   "source": [
    "**Listas:**\n",
    "Una lista es una secuencia mutable y ordenada de elementos. A diferencia\n",
    "de las tuplas, los elementos de las listas se pueden modificar una\n",
    "vez han recibido un valor asignado. Para especificar los elementos que\n",
    "forman una lista, se usa una tira de elementos separada de nuevo por\n",
    "coma (,), al principio y al final la lista se envuelve entre corchetes [,]."
   ]
  },
  {
   "cell_type": "code",
   "execution_count": 84,
   "metadata": {
    "slideshow": {
     "slide_type": "subslide"
    }
   },
   "outputs": [
    {
     "name": "stdout",
     "output_type": "stream",
     "text": [
      "['e', 'j', 'e', 'm', 'p', 'l', 'o']\n",
      "1\n",
      "6\n",
      "[4, 6]\n",
      "[1, 2, 3, 4, 6, [7, 8, 9]]\n",
      "[1, 2, 3, 4, 6, 7, 8, 9, 3]\n",
      "[1, 2, 4, 6, 7, 8, 9, 3]\n"
     ]
    }
   ],
   "source": [
    "l_vacia = []\n",
    "l1 = [1,2,3,4,6]\n",
    "l2 = ['hola',2 ,3]\n",
    "l3 = [l2,90,'good']\n",
    "l4 = list('ejemplo')\n",
    "l5 = [1,2,3,4,5,6,7,8,9]\n",
    "print(l4)\n",
    "\n",
    "# acceso a elementos:\n",
    "print(l1[0])\n",
    "print(l1[-1]) # último elemento\n",
    "print(l1[-2:]) # últimos dos elementos\n",
    "# añadir elementos:\n",
    "l1.append([7,8,9])\n",
    "print(l1)\n",
    "\n",
    "l1 = [1,2,3,4,6]\n",
    "l1.extend([7,8,9,3])\n",
    "print(l1)\n",
    "\n",
    "# eliminar el n-ésimo elemento:\n",
    "l1.remove(3)\n",
    "print(l1)\n"
   ]
  },
  {
   "cell_type": "markdown",
   "metadata": {
    "slideshow": {
     "slide_type": "slide"
    }
   },
   "source": [
    "**Diccionarios:**\n",
    "Se trata de unas estructuras\n",
    "de memoria asociativa. Los elementos en los diccionarios no se consultan\n",
    "mediante un índice, sino que se accede directamente a ellos por contenido."
   ]
  },
  {
   "cell_type": "code",
   "execution_count": 85,
   "metadata": {
    "slideshow": {
     "slide_type": "subslide"
    }
   },
   "outputs": [
    {
     "name": "stdout",
     "output_type": "stream",
     "text": [
      "{'nombre': 'Alejandro', 'edad': 34, 'numerosfavoritos': (3, 7, 13)}\n",
      "{'edad': 34, 'numerosfavoritos': (3, 7, 13)}\n",
      "{'nombre': 'Alejandro', 'edad': 34, 'numerosfavoritos': (3, 7, 13)}\n"
     ]
    }
   ],
   "source": [
    "#Ejemplos de uso de d i c c i o n a r i o s\n",
    "\n",
    "d1 = {'nombre': 'Alejandro', 'edad':34, 'numerosfavoritos': (3 ,7 ,13)}\n",
    "d1['nombre']\n",
    "print(d1)\n",
    "del d1['nombre']\n",
    "print(d1)\n",
    "\n",
    "tupla = (('nombre', 'Alejandro'),('edad',34),('numerosfavoritos',(3 ,7 ,13)))\n",
    "d2 = dict(tupla)\n",
    "print(d2)"
   ]
  },
  {
   "cell_type": "markdown",
   "metadata": {
    "slideshow": {
     "slide_type": "slide"
    }
   },
   "source": [
    "**Mathematical arrays with numpy:**"
   ]
  },
  {
   "cell_type": "code",
   "execution_count": 7,
   "metadata": {
    "slideshow": {
     "slide_type": "subslide"
    }
   },
   "outputs": [
    {
     "name": "stdout",
     "output_type": "stream",
     "text": [
      "The matrix [[0 1]\n",
      " [1 1]\n",
      " [2 2]]\n",
      "Alternate take: The Matrix = [[0 1]\n",
      " [1 1]\n",
      " [2 2]]\n",
      "Shape (3, 2)\n",
      "Element at Row 0, column 0: 0\n",
      "Selects the first column of the matrix [0 1 2]\n",
      "Selects the first row [0 1]\n",
      "Transposes the matrix [[0 1 2]\n",
      " [1 1 2]]\n",
      "indicates position that fulfills condition: (array([0, 0, 1, 1]), array([0, 1, 0, 1]))\n",
      "(100,)\n",
      "2.0\n",
      "[0.         0.02020202 0.04040404 0.06060606 0.08080808 0.1010101\n",
      " 0.12121212 0.14141414 0.16161616 0.18181818 0.2020202  0.22222222\n",
      " 0.24242424 0.26262626 0.28282828 0.3030303  0.32323232 0.34343434\n",
      " 0.36363636 0.38383838 0.4040404  0.42424242 0.44444444 0.46464646\n",
      " 0.48484848 0.50505051 0.52525253 0.54545455 0.56565657 0.58585859\n",
      " 0.60606061 0.62626263 0.64646465 0.66666667 0.68686869 0.70707071\n",
      " 0.72727273 0.74747475 0.76767677 0.78787879 0.80808081 0.82828283\n",
      " 0.84848485 0.86868687 0.88888889 0.90909091 0.92929293 0.94949495\n",
      " 0.96969697 0.98989899 1.01010101 1.03030303 1.05050505 1.07070707\n",
      " 1.09090909 1.11111111 1.13131313 1.15151515 1.17171717 1.19191919\n",
      " 1.21212121 1.23232323 1.25252525 1.27272727 1.29292929 1.31313131\n",
      " 1.33333333 1.35353535 1.37373737 1.39393939 1.41414141 1.43434343\n",
      " 1.45454545 1.47474747 1.49494949 1.51515152 1.53535354 1.55555556\n",
      " 1.57575758 1.5959596  1.61616162 1.63636364 1.65656566 1.67676768\n",
      " 1.6969697  1.71717172 1.73737374 1.75757576 1.77777778 1.7979798\n",
      " 1.81818182 1.83838384 1.85858586 1.87878788 1.8989899  1.91919192\n",
      " 1.93939394 1.95959596 1.97979798 2.        ]\n"
     ]
    }
   ],
   "source": [
    "import numpy as np\n",
    "\n",
    "x = np.array([[0, 1], [1, 1], [2, 2]])\n",
    "\n",
    "print(\"The matrix {}\".format(x))\n",
    "print(\"Alternate take: The Matrix = \" + str(x))\n",
    "\n",
    "print(\"Shape {}\".format(x.shape))\n",
    "\n",
    "print(\"Element at Row 0, column 0: {}\".format(x[0,0]))\n",
    "\n",
    "print(\"Selects the first column of the matrix {}\".format(x[:,0]))\n",
    "\n",
    "print(\"Selects the first row {}\".format(x[0,:]))\n",
    "\n",
    "print(\"Transposes the matrix {}\".format(x.transpose()))\n",
    "\n",
    "idx = np.where(x <= 1)\n",
    "print('indicates position that fulfills condition: {}'.format(idx))\n",
    "\n",
    "y = np.linspace(0,2,100)\n",
    "\n",
    "print(y.shape)\n",
    "print(y[-1])\n",
    "print(y.T)\n"
   ]
  },
  {
   "cell_type": "markdown",
   "metadata": {
    "slideshow": {
     "slide_type": "slide"
    }
   },
   "source": [
    "## 2. Flux control: Loops and if-then-else:"
   ]
  },
  {
   "cell_type": "code",
   "execution_count": 87,
   "metadata": {
    "slideshow": {
     "slide_type": "subslide"
    }
   },
   "outputs": [
    {
     "name": "stdout",
     "output_type": "stream",
     "text": [
      "37 es un número positivo\n",
      "\n"
     ]
    }
   ],
   "source": [
    "c = 37\n",
    "if c > 0:\n",
    "    print(\"{} es un número positivo\\n\".format(c))\n",
    "elif c==0: \n",
    "    print(\"{} es cero\\n\".format(c))\n",
    "else:\n",
    "    print(\"{} es un número negativo\\n\".format(c))"
   ]
  },
  {
   "cell_type": "markdown",
   "metadata": {
    "slideshow": {
     "slide_type": "subslide"
    }
   },
   "source": [
    "Es importante destacar que el bucle for no se comporta exactamente\n",
    "como estamos acostumbrados en la mayor parte de lenguajes de programación.\n",
    "En Python, a cada paso del bucle se instancia el elemento\n",
    "iterador con un valor de la secuencia de forma automática."
   ]
  },
  {
   "cell_type": "code",
   "execution_count": 88,
   "metadata": {
    "slideshow": {
     "slide_type": "subslide"
    }
   },
   "outputs": [
    {
     "name": "stdout",
     "output_type": "stream",
     "text": [
      "hola\n",
      "buenos\n",
      "dias\n"
     ]
    }
   ],
   "source": [
    "vector = [\"hola\",\"buenos\",\"dias\"]\n",
    "for palabra in vector:\n",
    "    print (palabra)"
   ]
  },
  {
   "cell_type": "code",
   "execution_count": 89,
   "metadata": {
    "slideshow": {
     "slide_type": "subslide"
    }
   },
   "outputs": [
    {
     "name": "stdout",
     "output_type": "stream",
     "text": [
      "2\n",
      "4\n",
      "6\n",
      "8\n",
      "10\n",
      "12\n",
      "14\n",
      "16\n",
      "18\n",
      "20\n"
     ]
    }
   ],
   "source": [
    "pares = 2\n",
    "while pares <= 20:\n",
    "    print(pares)\n",
    "    pares = pares + 2"
   ]
  },
  {
   "cell_type": "markdown",
   "metadata": {
    "slideshow": {
     "slide_type": "slide"
    }
   },
   "source": [
    "## Functions"
   ]
  },
  {
   "cell_type": "code",
   "execution_count": 91,
   "metadata": {
    "slideshow": {
     "slide_type": "subslide"
    }
   },
   "outputs": [
    {
     "name": "stdout",
     "output_type": "stream",
     "text": [
      "10\n"
     ]
    }
   ],
   "source": [
    "# Primero definimos la función:\n",
    "\n",
    "def sumarLista(parametros):\n",
    "    resultado = 0\n",
    "    for val in parametros:\n",
    "        resultado = resultado + val\n",
    "    return resultado\n",
    "        \n",
    "# Llamamos a la función:\n",
    "res = sumarLista([1,2,3,4])\n",
    "print(res)"
   ]
  },
  {
   "cell_type": "markdown",
   "metadata": {
    "slideshow": {
     "slide_type": "slide"
    }
   },
   "source": [
    "## 2. Functional language: \n",
    "\n",
    "Es decir, en la programación funcional podemos guardar una función\n",
    "en una variable, para posteriormente aplicarla sobre unos argumentos,\n",
    "permitiendo incluso que una función retorne otra función como salida.\n",
    "\n"
   ]
  },
  {
   "cell_type": "code",
   "execution_count": 92,
   "metadata": {
    "slideshow": {
     "slide_type": "subslide"
    }
   },
   "outputs": [
    {
     "name": "stdout",
     "output_type": "stream",
     "text": [
      "dollar\n",
      "dollar\n",
      "Yen\n"
     ]
    }
   ],
   "source": [
    "def money(country):\n",
    "    def spain():\n",
    "        print (\" Euro \" )\n",
    "    def japan():\n",
    "        print ( \"Yen\" )\n",
    "    def eeuu() :\n",
    "        print(\"dollar\")\n",
    "\n",
    "    # diccionario que mapea entradas tipo string a las funciones de money\n",
    "    functor_money={\"es\":spain ,\"jp\":japan,\"us\":eeuu}\n",
    "\n",
    "    return functor_money[country]\n",
    "\n",
    "# Creamos una variable f que será utilizada como función, en este caso apuntando a la función eeuu:\n",
    "f = money(\"us\")\n",
    "money(\"us\")()\n",
    "f() # llamada a la función\n",
    "\n",
    "# Creamos una variable f que será utilizada como función, en este caso apuntando a la función japon:\n",
    "f = money(\"jp\")\n",
    "f()"
   ]
  },
  {
   "cell_type": "markdown",
   "metadata": {
    "slideshow": {
     "slide_type": "slide"
    }
   },
   "source": [
    "**Ejemplo de programación funcional: Instrucción map**"
   ]
  },
  {
   "cell_type": "code",
   "execution_count": 93,
   "metadata": {
    "slideshow": {
     "slide_type": "subslide"
    }
   },
   "outputs": [
    {
     "name": "stdout",
     "output_type": "stream",
     "text": [
      "[0, 1, 2, 3, 4, 5, 6, 7, 8, 9]\n",
      "[0, 2, 4, 6, 8, 10, 12, 14, 16, 18]\n"
     ]
    }
   ],
   "source": [
    "# definimos la función doblar: \n",
    "def doblar(num):\n",
    "    return num*2\n",
    "# creamos una lista a la que aplicar la función:\n",
    "l1 = list(range(10))\n",
    "print(l1)\n",
    "# Mediante la instrucción map creamos una nueva lista con el resultado de aplicar la función doblar a la primera lista:\n",
    "l2 = list(map(doblar,l1))\n",
    "print(l2)"
   ]
  },
  {
   "cell_type": "markdown",
   "metadata": {
    "slideshow": {
     "slide_type": "slide"
    }
   },
   "source": [
    "**Ejemplo de programación funcional: Instrucción filter**"
   ]
  },
  {
   "cell_type": "code",
   "execution_count": 94,
   "metadata": {
    "slideshow": {
     "slide_type": "subslide"
    }
   },
   "outputs": [
    {
     "name": "stdout",
     "output_type": "stream",
     "text": [
      "[0, 1, 2, 3, 4, 5, 6, 7, 8, 9]\n",
      "[0, 2, 4, 6, 8]\n"
     ]
    }
   ],
   "source": [
    "# definimos la función que dice si un número es par o impar: \n",
    "def par(num) :\n",
    "    return (num%2) == 0\n",
    "# creamos una lista a la que aplicar la función:\n",
    "l1 = list(range(10))\n",
    "print(l1)\n",
    "# Mediante la instrucción filer creamos una nueva lista con los valores para los que la función par devuelve True:\n",
    "l2 = list(filter(par,l1))\n",
    "print(l2)"
   ]
  },
  {
   "cell_type": "markdown",
   "metadata": {
    "slideshow": {
     "slide_type": "slide"
    }
   },
   "source": [
    "## 4. Object-oriented programming\n",
    "\n",
    "El lenguaje Python permite trabajar mediante el paradigma de programación\n",
    "imperativa clásica (como en todos los ejemplos vistos hasta ahora), o mediante\n",
    "el paradigma de la orientación a objetos, e incluso mediante lenguaje funcional.\n",
    "En este apartado veremos la sintaxis de la orientación a objetos (OO)\n",
    "en Python, con algunos ejemplos prácticos. Asumiremos que el estudiante conoce\n",
    "las bases de la OO, y que está familiarizado con los conceptos de clase,\n",
    "objeto y método.\n",
    "\n",
    "\n",
    "Un objeto no es más que el resultado de encapsular una determinada entidad,\n",
    "que está formada por un estado (los datos o atributos) y un funcionamiento\n",
    "(los métodos). Una clase es la plantilla o concepto genérico de un objeto, que\n",
    "se usa para definir sus propiedades y servicios. Un objeto es pues una instancia\n",
    "concreta de una clase.\n",
    "Para definir una clase usamos la palabra clave class. En el fragmento de código\n",
    "6.1 mostramos un ejemplo de definición de una clase."
   ]
  },
  {
   "cell_type": "code",
   "execution_count": 95,
   "metadata": {
    "slideshow": {
     "slide_type": "subslide"
    }
   },
   "outputs": [
    {
     "name": "stdout",
     "output_type": "stream",
     "text": [
      "En la tienda hay 3  panes y 2 pastas aunque estas no se venden\n",
      "Vendido un pan!\n",
      "Vendido un pan!\n",
      "Quedan 11 panes\n",
      "Vendido un pan!\n"
     ]
    }
   ],
   "source": [
    "# Definición de la clase panaderia:\n",
    "class Panaderia:\n",
    "# Inicializamos la clase mediante la función __init__: \n",
    "    def __init__ (self,panes,pastitas) :\n",
    "        self.panes = panes\n",
    "        self.pastas = pastitas\n",
    "        print ( \"En la tienda hay\", self.panes , \" panes y\" , self.pastas,\"pastas aunque estas no se venden\" )\n",
    "\n",
    "# definimos los métodos de la clase: \n",
    "    def vender(self):\n",
    "        if self.panes > 0:\n",
    "            print(\"Vendido un pan!\")\n",
    "            self.panes -= 1\n",
    "        else:\n",
    "            print(\"Lo sentimos , no quedan panes por vender\")\n",
    "\n",
    "    def cocer(self, piezas):\n",
    "        self.panes += piezas\n",
    "        print(\"Quedan\" , self.panes, \"panes\")\n",
    "\n",
    "# Instanciamos un objeto de la clase panadería:\n",
    "panaderia2 = Panaderia (3 ,2)\n",
    "\n",
    "# Ejecución de los métodos mediante objeto.método(params): \n",
    "panaderia2.vender()\n",
    "panaderia2.vender()\n",
    "\n",
    "panaderia2.cocer(10)\n",
    "panaderia2.vender()"
   ]
  },
  {
   "cell_type": "markdown",
   "metadata": {
    "slideshow": {
     "slide_type": "slide"
    }
   },
   "source": [
    "### Herencia "
   ]
  },
  {
   "cell_type": "markdown",
   "metadata": {
    "slideshow": {
     "slide_type": "subslide"
    }
   },
   "source": [
    "Cuando decimos que una clase hereda de otra, nos referimos a que la\n",
    "clase resultante contendrá todos los atributos y métodos de la clase padre\n",
    "o superclase, permitiendo de esta forma una especialización progresiva\n",
    "de las clases y una mayor reutilización de código."
   ]
  },
  {
   "cell_type": "code",
   "execution_count": 96,
   "metadata": {
    "slideshow": {
     "slide_type": "subslide"
    }
   },
   "outputs": [
    {
     "name": "stdout",
     "output_type": "stream",
     "text": [
      "The animal weights  0.7  kg after eating.\n",
      "The animal weights  0.4  kg after eating.\n",
      " I fly as a bird!\n",
      "The animal weights  160  kg after eating.\n",
      "I cannot fly, I am a mammal!\n",
      "I am a mammal of 160 kg.\n",
      " I am a bird of 30 kg.\n",
      "I cannot fly, I am a Bird but ostrichs do not fly!\n",
      "I cannot fly, I am a mammal!\n",
      " I am something rare\n",
      " I fly as a bird!\n",
      "160\n"
     ]
    },
    {
     "ename": "AttributeError",
     "evalue": "'Animal' object has no attribute 'privateMethod'",
     "output_type": "error",
     "traceback": [
      "\u001b[0;31m---------------------------------------------------------------------------\u001b[0m",
      "\u001b[0;31mAttributeError\u001b[0m                            Traceback (most recent call last)",
      "\u001b[0;32m<ipython-input-96-67036d5bdf24>\u001b[0m in \u001b[0;36m<module>\u001b[0;34m\u001b[0m\n\u001b[1;32m     68\u001b[0m \u001b[0;34m\u001b[0m\u001b[0m\n\u001b[1;32m     69\u001b[0m \u001b[0mprint\u001b[0m\u001b[0;34m(\u001b[0m\u001b[0mbear\u001b[0m\u001b[0;34m.\u001b[0m\u001b[0mgetWeight\u001b[0m\u001b[0;34m(\u001b[0m\u001b[0;34m)\u001b[0m\u001b[0;34m)\u001b[0m\u001b[0;34m\u001b[0m\u001b[0;34m\u001b[0m\u001b[0m\n\u001b[0;32m---> 70\u001b[0;31m \u001b[0manimal1\u001b[0m\u001b[0;34m.\u001b[0m\u001b[0mprivateMethod\u001b[0m\u001b[0;34m(\u001b[0m\u001b[0;34m)\u001b[0m\u001b[0;34m\u001b[0m\u001b[0;34m\u001b[0m\u001b[0m\n\u001b[0m\u001b[1;32m     71\u001b[0m \u001b[0;34m\u001b[0m\u001b[0m\n\u001b[1;32m     72\u001b[0m \u001b[0;31m# Los métodos privados no se heredan:\u001b[0m\u001b[0;34m\u001b[0m\u001b[0;34m\u001b[0m\u001b[0;34m\u001b[0m\u001b[0m\n",
      "\u001b[0;31mAttributeError\u001b[0m: 'Animal' object has no attribute 'privateMethod'"
     ]
    }
   ],
   "source": [
    "# Animal es una superclase del resto de clases, que heredan de ella:\n",
    "class Animal:\n",
    "    def __init__(self,age,weight):\n",
    "        self.age = age\n",
    "        self.__weight = weight\n",
    "        \n",
    "# Los métodos privados no se heredan:\n",
    "    def __privateMethod(self):\n",
    "        print(self.weight)\n",
    "        \n",
    "    def getWeight(self):\n",
    "        return self.__weight\n",
    "\n",
    "    def eat(self,kgm):\n",
    "        self.__weight += kgm\n",
    "        print(\"The animal weights \" ,self.__weight , \" kg after eating.\")\n",
    "\n",
    "class Bird(Animal):\n",
    "    def __str__(self):\n",
    "        return \" I am a bird of \"+str(self.getWeight()) + \" kg.\"\n",
    "    def fly(self):\n",
    "        print ( \" I fly as a bird!\")\n",
    "\n",
    "class Mammal(Animal):\n",
    "    def __str__(self):\n",
    "        return \"I am a mammal of \"+str(self.getWeight()) + \" kg.\"\n",
    "    def fly(self):\n",
    "        print(\"I cannot fly, I am a mammal!\")\n",
    "\n",
    "# La clase Ostrich hereda de dos clases a la vez (herencia múltiple): \n",
    "class Ostrich(Bird,Animal): #Avestruz\n",
    "    def fly (self):\n",
    "        print(\"I cannot fly, I am a Bird but ostrichs do not fly!\")\n",
    "\n",
    "class Platypus1(Mammal, Bird):\n",
    "    def __str__(self):\n",
    "        return \" I am something rare\"\n",
    "    pass\n",
    "\n",
    "class Platypus2(Bird,Mammal):\n",
    "    def __str__(self):\n",
    "        return \" I am something rare\"\n",
    "    pass\n",
    "\n",
    "# Instanciamos objeto de la clase Animal:\n",
    "animal1 = Animal(3,0.5)\n",
    "animal1.eat(0.2)\n",
    "\n",
    "# Instanciamos un objeto de la clase Bird, que hereda los métodos eat and fly de la clase Animal:\n",
    "canary = Bird(1,0.3)\n",
    "canary.eat(0.1)\n",
    "canary.fly()\n",
    "\n",
    "bear = Mammal(10 ,150)\n",
    "bear.eat(10)\n",
    "bear.fly()\n",
    "print(bear)\n",
    "\n",
    "ostrich = Ostrich(5 ,30)\n",
    "print(ostrich)\n",
    "ostrich.fly( )\n",
    "\n",
    "platypus = Platypus1(2 ,3)\n",
    "platypus.fly()\n",
    "print(platypus)\n",
    "platypus = Platypus2(2,3)\n",
    "platypus.fly()\n",
    "\n",
    "print(bear.getWeight())\n",
    "animal1.privateMethod()\n",
    "\n",
    "# Los métodos privados no se heredan:\n",
    "bear.privateMethod()"
   ]
  }
 ],
 "metadata": {
  "celltoolbar": "Slideshow",
  "kernelspec": {
   "display_name": "Python 3",
   "language": "python",
   "name": "python3"
  },
  "language_info": {
   "codemirror_mode": {
    "name": "ipython",
    "version": 3
   },
   "file_extension": ".py",
   "mimetype": "text/x-python",
   "name": "python",
   "nbconvert_exporter": "python",
   "pygments_lexer": "ipython3",
   "version": "3.7.3"
  }
 },
 "nbformat": 4,
 "nbformat_minor": 2
}
