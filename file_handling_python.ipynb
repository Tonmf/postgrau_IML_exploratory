{
  "nbformat": 4,
  "nbformat_minor": 0,
  "metadata": {
    "colab": {
      "name": "file_handling_python.ipynb",
      "provenance": [],
      "authorship_tag": "ABX9TyPrLkhGHyR0qEt3ADmEZKfB",
      "include_colab_link": true
    },
    "kernelspec": {
      "name": "python3",
      "display_name": "Python 3"
    }
  },
  "cells": [
    {
      "cell_type": "markdown",
      "metadata": {
        "id": "view-in-github",
        "colab_type": "text"
      },
      "source": [
        "<a href=\"https://colab.research.google.com/github/raulbenitez/postgrau_IML_exploratory/blob/master/file_handling_python.ipynb\" target=\"_parent\"><img src=\"https://colab.research.google.com/assets/colab-badge.svg\" alt=\"Open In Colab\"/></a>"
      ]
    },
    {
      "cell_type": "markdown",
      "metadata": {
        "id": "cGLKW6l-h6R1",
        "colab_type": "text"
      },
      "source": [
        "# File handling in Python:\n",
        "\n",
        "List folder contents:"
      ]
    },
    {
      "cell_type": "code",
      "metadata": {
        "id": "ScGwvMvjjbjW",
        "colab_type": "code",
        "outputId": "13785c8d-852a-42f4-cbda-be233db6a49e",
        "colab": {
          "base_uri": "https://localhost:8080/",
          "height": 122
        }
      },
      "source": [
        "from google.colab import drive \n",
        "drive.mount('/content/gdrive')"
      ],
      "execution_count": 1,
      "outputs": [
        {
          "output_type": "stream",
          "text": [
            "Go to this URL in a browser: https://accounts.google.com/o/oauth2/auth?client_id=947318989803-6bn6qk8qdgf4n4g3pfee6491hc0brc4i.apps.googleusercontent.com&redirect_uri=urn%3aietf%3awg%3aoauth%3a2.0%3aoob&response_type=code&scope=email%20https%3a%2f%2fwww.googleapis.com%2fauth%2fdocs.test%20https%3a%2f%2fwww.googleapis.com%2fauth%2fdrive%20https%3a%2f%2fwww.googleapis.com%2fauth%2fdrive.photos.readonly%20https%3a%2f%2fwww.googleapis.com%2fauth%2fpeopleapi.readonly\n",
            "\n",
            "Enter your authorization code:\n",
            "··········\n",
            "Mounted at /content/gdrive\n"
          ],
          "name": "stdout"
        }
      ]
    },
    {
      "cell_type": "code",
      "metadata": {
        "id": "9UoisrPhgRYc",
        "colab_type": "code",
        "outputId": "1ed93dbc-aa0d-47d9-da46-8a131a053d04",
        "colab": {
          "base_uri": "https://localhost:8080/",
          "height": 443
        }
      },
      "source": [
        "import pandas as pd\n",
        "from google.colab import files\n",
        "import os\n",
        "\n",
        "root_folder = '/content/gdrive/My Drive/data_course'\n",
        "for kfolder in os.listdir(root_folder):\n",
        "    print('-------- Folder: {}'.format(kfolder))\n",
        "    full_path = os.path.join(root_folder, kfolder)    \n",
        "    for root, dirs, files in os.walk(full_path):\n",
        "        print(dirs)\n",
        "        print(files)\n",
        "        for filename in files:\n",
        "            print(filename)\n",
        "            file_path = os.path.join(full_path,filename)  \n",
        "            if (filename.endswith('.csv')):\n",
        "                df = pd.read_csv(file_path, engine='python')\n",
        "                print('csv contents data size {}'.format(df.shape))\n",
        "            elif (filename.endswith('.xls')) | (filename.endswith('.xlsx')):\n",
        "                print(filename)\n",
        "                df = pd.read_excel(file_path, engine='python')\n",
        "                print('excel contents data size {}'.format(df.shape))\n",
        "           "
      ],
      "execution_count": 7,
      "outputs": [
        {
          "output_type": "stream",
          "text": [
            "-------- Folder: titanic\n",
            "[]\n",
            "['gender_submission.csv', 'test.csv', 'train.csv']\n",
            "gender_submission.csv\n"
          ],
          "name": "stdout"
        },
        {
          "output_type": "error",
          "ename": "TypeError",
          "evalue": "ignored",
          "traceback": [
            "\u001b[0;31m---------------------------------------------------------------------------\u001b[0m",
            "\u001b[0;31mTypeError\u001b[0m                                 Traceback (most recent call last)",
            "\u001b[0;32m<ipython-input-7-15866bd5429d>\u001b[0m in \u001b[0;36m<module>\u001b[0;34m()\u001b[0m\n\u001b[1;32m     12\u001b[0m         \u001b[0;32mfor\u001b[0m \u001b[0mfilename\u001b[0m \u001b[0;32min\u001b[0m \u001b[0mfiles\u001b[0m\u001b[0;34m:\u001b[0m\u001b[0;34m\u001b[0m\u001b[0;34m\u001b[0m\u001b[0m\n\u001b[1;32m     13\u001b[0m             \u001b[0mprint\u001b[0m\u001b[0;34m(\u001b[0m\u001b[0mfilename\u001b[0m\u001b[0;34m)\u001b[0m\u001b[0;34m\u001b[0m\u001b[0;34m\u001b[0m\u001b[0m\n\u001b[0;32m---> 14\u001b[0;31m             \u001b[0mfile_path\u001b[0m \u001b[0;34m=\u001b[0m \u001b[0mos\u001b[0m\u001b[0;34m.\u001b[0m\u001b[0mpath\u001b[0m\u001b[0;34m.\u001b[0m\u001b[0mjoin\u001b[0m\u001b[0;34m(\u001b[0m\u001b[0mfull_path\u001b[0m\u001b[0;34m,\u001b[0m \u001b[0mdirs\u001b[0m\u001b[0;34m,\u001b[0m\u001b[0mfilename\u001b[0m\u001b[0;34m)\u001b[0m\u001b[0;34m\u001b[0m\u001b[0;34m\u001b[0m\u001b[0m\n\u001b[0m\u001b[1;32m     15\u001b[0m             \u001b[0;32mif\u001b[0m \u001b[0;34m(\u001b[0m\u001b[0mfilename\u001b[0m\u001b[0;34m.\u001b[0m\u001b[0mendswith\u001b[0m\u001b[0;34m(\u001b[0m\u001b[0;34m'.csv'\u001b[0m\u001b[0;34m)\u001b[0m\u001b[0;34m)\u001b[0m\u001b[0;34m:\u001b[0m\u001b[0;34m\u001b[0m\u001b[0;34m\u001b[0m\u001b[0m\n\u001b[1;32m     16\u001b[0m                 \u001b[0mdf\u001b[0m \u001b[0;34m=\u001b[0m \u001b[0mpd\u001b[0m\u001b[0;34m.\u001b[0m\u001b[0mread_csv\u001b[0m\u001b[0;34m(\u001b[0m\u001b[0mfile_path\u001b[0m\u001b[0;34m,\u001b[0m \u001b[0mengine\u001b[0m\u001b[0;34m=\u001b[0m\u001b[0;34m'python'\u001b[0m\u001b[0;34m)\u001b[0m\u001b[0;34m\u001b[0m\u001b[0;34m\u001b[0m\u001b[0m\n",
            "\u001b[0;32m/usr/lib/python3.6/posixpath.py\u001b[0m in \u001b[0;36mjoin\u001b[0;34m(a, *p)\u001b[0m\n\u001b[1;32m     92\u001b[0m                 \u001b[0mpath\u001b[0m \u001b[0;34m+=\u001b[0m \u001b[0msep\u001b[0m \u001b[0;34m+\u001b[0m \u001b[0mb\u001b[0m\u001b[0;34m\u001b[0m\u001b[0;34m\u001b[0m\u001b[0m\n\u001b[1;32m     93\u001b[0m     \u001b[0;32mexcept\u001b[0m \u001b[0;34m(\u001b[0m\u001b[0mTypeError\u001b[0m\u001b[0;34m,\u001b[0m \u001b[0mAttributeError\u001b[0m\u001b[0;34m,\u001b[0m \u001b[0mBytesWarning\u001b[0m\u001b[0;34m)\u001b[0m\u001b[0;34m:\u001b[0m\u001b[0;34m\u001b[0m\u001b[0;34m\u001b[0m\u001b[0m\n\u001b[0;32m---> 94\u001b[0;31m         \u001b[0mgenericpath\u001b[0m\u001b[0;34m.\u001b[0m\u001b[0m_check_arg_types\u001b[0m\u001b[0;34m(\u001b[0m\u001b[0;34m'join'\u001b[0m\u001b[0;34m,\u001b[0m \u001b[0ma\u001b[0m\u001b[0;34m,\u001b[0m \u001b[0;34m*\u001b[0m\u001b[0mp\u001b[0m\u001b[0;34m)\u001b[0m\u001b[0;34m\u001b[0m\u001b[0;34m\u001b[0m\u001b[0m\n\u001b[0m\u001b[1;32m     95\u001b[0m         \u001b[0;32mraise\u001b[0m\u001b[0;34m\u001b[0m\u001b[0;34m\u001b[0m\u001b[0m\n\u001b[1;32m     96\u001b[0m     \u001b[0;32mreturn\u001b[0m \u001b[0mpath\u001b[0m\u001b[0;34m\u001b[0m\u001b[0;34m\u001b[0m\u001b[0m\n",
            "\u001b[0;32m/usr/lib/python3.6/genericpath.py\u001b[0m in \u001b[0;36m_check_arg_types\u001b[0;34m(funcname, *args)\u001b[0m\n\u001b[1;32m    147\u001b[0m         \u001b[0;32melse\u001b[0m\u001b[0;34m:\u001b[0m\u001b[0;34m\u001b[0m\u001b[0;34m\u001b[0m\u001b[0m\n\u001b[1;32m    148\u001b[0m             raise TypeError('%s() argument must be str or bytes, not %r' %\n\u001b[0;32m--> 149\u001b[0;31m                             (funcname, s.__class__.__name__)) from None\n\u001b[0m\u001b[1;32m    150\u001b[0m     \u001b[0;32mif\u001b[0m \u001b[0mhasstr\u001b[0m \u001b[0;32mand\u001b[0m \u001b[0mhasbytes\u001b[0m\u001b[0;34m:\u001b[0m\u001b[0;34m\u001b[0m\u001b[0;34m\u001b[0m\u001b[0m\n\u001b[1;32m    151\u001b[0m         \u001b[0;32mraise\u001b[0m \u001b[0mTypeError\u001b[0m\u001b[0;34m(\u001b[0m\u001b[0;34m\"Can't mix strings and bytes in path components\"\u001b[0m\u001b[0;34m)\u001b[0m \u001b[0;32mfrom\u001b[0m \u001b[0;32mNone\u001b[0m\u001b[0;34m\u001b[0m\u001b[0;34m\u001b[0m\u001b[0m\n",
            "\u001b[0;31mTypeError\u001b[0m: join() argument must be str or bytes, not 'list'"
          ]
        }
      ]
    },
    {
      "cell_type": "code",
      "metadata": {
        "id": "cujZysIoNFKl",
        "colab_type": "code",
        "colab": {
          "base_uri": "https://localhost:8080/",
          "height": 289
        },
        "outputId": "9a638d89-3fba-4f11-9d44-ce91d25fad05"
      },
      "source": [
        "import pandas as pd\n",
        "from google.colab import files\n",
        "import os\n",
        "\n",
        "root_folder = '/content/gdrive/My Drive/data_course'\n",
        "for kfolder in os.listdir(root_folder):\n",
        "    print('-------- Folder: {}'.format(kfolder))\n",
        "    full_path = os.path.join(root_folder, kfolder) \n",
        "    for root, dirs, files in os.walk(full_path):\n",
        "        print(root)\n",
        "        print(dirs)\n",
        "        print(files)\n",
        "        for kdirs in dirs:\n",
        "            full_path = os.path.join(root_folder, kdirs) \n",
        "            for kfiles in files:\n",
        "                full_path = os.path.join(full_path, kfiles) \n",
        "                print(full_path)"
      ],
      "execution_count": 23,
      "outputs": [
        {
          "output_type": "stream",
          "text": [
            "-------- Folder: titanic\n",
            "/content/gdrive/My Drive/data_course/titanic\n",
            "[]\n",
            "['gender_submission.csv', 'test.csv', 'train.csv']\n",
            "-------- Folder: mpg_cars\n",
            "/content/gdrive/My Drive/data_course/mpg_cars\n",
            "[]\n",
            "['auto-mpg.csv']\n",
            "-------- Folder: boston_crime\n",
            "/content/gdrive/My Drive/data_course/boston_crime\n",
            "['prueba']\n",
            "['crime.csv']\n",
            "/content/gdrive/My Drive/data_course/prueba/crime.csv\n",
            "/content/gdrive/My Drive/data_course/boston_crime/prueba\n",
            "[]\n",
            "['crime1.csv']\n"
          ],
          "name": "stdout"
        }
      ]
    },
    {
      "cell_type": "code",
      "metadata": {
        "id": "rBBFQSwvQxJj",
        "colab_type": "code",
        "colab": {
          "base_uri": "https://localhost:8080/",
          "height": 306
        },
        "outputId": "e02bbe0b-1bf6-4cd3-985e-f724b6cd1dfb"
      },
      "source": [
        "import pandas as pd\n",
        "from google.colab import files\n",
        "import os\n",
        "\n",
        "root_folder = '/content/gdrive/My Drive/data_course'\n",
        "\n",
        "for root, dirs, files in os.walk(root_folder):\n",
        "        print(root)\n",
        "        for kfiles in os.listdir(root):\n",
        "          print(kfiles)"
      ],
      "execution_count": 36,
      "outputs": [
        {
          "output_type": "stream",
          "text": [
            "/content/gdrive/My Drive/data_course\n",
            "titanic\n",
            "mpg_cars\n",
            "boston_crime\n",
            "/content/gdrive/My Drive/data_course/titanic\n",
            "gender_submission.csv\n",
            "test.csv\n",
            "train.csv\n",
            "/content/gdrive/My Drive/data_course/mpg_cars\n",
            "auto-mpg.csv\n",
            "/content/gdrive/My Drive/data_course/boston_crime\n",
            "crime.csv\n",
            "prueba\n",
            "/content/gdrive/My Drive/data_course/boston_crime/prueba\n",
            "crime1.csv\n",
            "prueba2\n",
            "/content/gdrive/My Drive/data_course/boston_crime/prueba/prueba2\n"
          ],
          "name": "stdout"
        }
      ]
    },
    {
      "cell_type": "code",
      "metadata": {
        "id": "VqJmRj3SRjlM",
        "colab_type": "code",
        "colab": {}
      },
      "source": [
        ""
      ],
      "execution_count": 0,
      "outputs": []
    }
  ]
}