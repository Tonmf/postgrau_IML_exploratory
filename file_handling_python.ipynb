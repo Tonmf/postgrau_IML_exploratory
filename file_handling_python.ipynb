{
  "nbformat": 4,
  "nbformat_minor": 0,
  "metadata": {
    "colab": {
      "name": "file_handling_python.ipynb",
      "provenance": [],
      "authorship_tag": "ABX9TyN2dZLS9YxgYnyVPyyplE9k",
      "include_colab_link": true
    },
    "kernelspec": {
      "name": "python3",
      "display_name": "Python 3"
    }
  },
  "cells": [
    {
      "cell_type": "markdown",
      "metadata": {
        "id": "view-in-github",
        "colab_type": "text"
      },
      "source": [
        "<a href=\"https://colab.research.google.com/github/raulbenitez/postgrau_IML_exploratory/blob/master/file_handling_python.ipynb\" target=\"_parent\"><img src=\"https://colab.research.google.com/assets/colab-badge.svg\" alt=\"Open In Colab\"/></a>"
      ]
    },
    {
      "cell_type": "markdown",
      "metadata": {
        "id": "cGLKW6l-h6R1",
        "colab_type": "text"
      },
      "source": [
        "# File handling in Python:\n",
        "\n",
        "List folder contents:"
      ]
    },
    {
      "cell_type": "code",
      "metadata": {
        "id": "ScGwvMvjjbjW",
        "colab_type": "code",
        "colab": {
          "base_uri": "https://localhost:8080/",
          "height": 122
        },
        "outputId": "c91c21b9-8eda-4d25-f520-4dd7b8180196"
      },
      "source": [
        "from google.colab import drive \n",
        "drive.mount('/content/gdrive')"
      ],
      "execution_count": 4,
      "outputs": [
        {
          "output_type": "stream",
          "text": [
            "Go to this URL in a browser: https://accounts.google.com/o/oauth2/auth?client_id=947318989803-6bn6qk8qdgf4n4g3pfee6491hc0brc4i.apps.googleusercontent.com&redirect_uri=urn%3aietf%3awg%3aoauth%3a2.0%3aoob&response_type=code&scope=email%20https%3a%2f%2fwww.googleapis.com%2fauth%2fdocs.test%20https%3a%2f%2fwww.googleapis.com%2fauth%2fdrive%20https%3a%2f%2fwww.googleapis.com%2fauth%2fdrive.photos.readonly%20https%3a%2f%2fwww.googleapis.com%2fauth%2fpeopleapi.readonly\n",
            "\n",
            "Enter your authorization code:\n",
            "··········\n",
            "Mounted at /content/gdrive\n"
          ],
          "name": "stdout"
        }
      ]
    },
    {
      "cell_type": "code",
      "metadata": {
        "id": "9UoisrPhgRYc",
        "colab_type": "code",
        "colab": {
          "base_uri": "https://localhost:8080/",
          "height": 238
        },
        "outputId": "ccac0173-27b6-48f4-f84b-028375633c8f"
      },
      "source": [
        "import pandas as pd\n",
        "from google.colab import files\n",
        "import os\n",
        "\n",
        "root_folder = '/content/gdrive/My Drive/data_course'\n",
        "for kfolder in os.listdir(root_folder):\n",
        "    print('-------- Folder: {}'.format(kfolder))\n",
        "    full_path = os.path.join(root_folder, kfolder)    \n",
        "    for root, dirs, files in os.walk(full_path):\n",
        "        for filename in files:\n",
        "            print(filename)\n",
        "            file_path = os.path.join(full_path, filename)  \n",
        "            if (filename.endswith('.csv')):\n",
        "                df = pd.read_csv(file_path, engine='python')\n",
        "                print('csv contents data size {}'.format(df.shape))\n",
        "            elif (filename.endswith('.xls')) | (filename.endswith('.xlsx')):\n",
        "                print(filename)\n",
        "                df = pd.read_csv(file_path, engine='python')\n",
        "                print('excel contents data size {}'.format(df.shape))\n",
        "           "
      ],
      "execution_count": 15,
      "outputs": [
        {
          "output_type": "stream",
          "text": [
            "-------- Folder: titanic\n",
            "gender_submission.csv\n",
            "csv contents data size (418, 2)\n",
            "test.csv\n",
            "csv contents data size (418, 11)\n",
            "train.csv\n",
            "csv contents data size (891, 12)\n",
            "-------- Folder: mpg_cars\n",
            "auto-mpg.csv\n",
            "csv contents data size (398, 9)\n",
            "-------- Folder: boston_crime\n",
            "crime.csv\n",
            "csv contents data size (327820, 17)\n"
          ],
          "name": "stdout"
        }
      ]
    }
  ]
}